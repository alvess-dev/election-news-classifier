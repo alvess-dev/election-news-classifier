{
 "cells": [
  {
   "cell_type": "code",
   "execution_count": null,
   "metadata": {
    "id": "-VSf-MZjeM3w"
   },
   "outputs": [],
   "source": [
    "from random import random\n",
    "from selenium import webdriver\n",
    "from logging import raiseExceptions\n",
    "from selenium.webdriver.common.by import By\n",
    "from selenium.webdriver.chrome.service import Service\n",
    "from selenium.webdriver.support.ui import WebDriverWait\n",
    "from selenium.webdriver.support import expected_conditions as EC\n",
    "from selenium.common.exceptions import ElementClickInterceptedException"
   ]
  },
  {
   "cell_type": "code",
   "execution_count": null,
   "metadata": {
    "id": "lvdOovK_eM3w"
   },
   "outputs": [],
   "source": [
    "service = Service()\n",
    "options = webdriver.ChromeOptions()\n",
    "options.add_extension(\"adblock.crx\")\n",
    "options.add_argument(\"--disable-application-cache\")\n",
    "options.add_argument(\"--disable-gpu\")\n",
    "options.add_argument(\"--no-sandbox\")\n",
    "options.add_argument(\"--disable-setuid-sandbox\")\n",
    "options.add_argument(\"--disable-dev-shm-usage\")\n",
    "options.page_load_strategy = 'eager'\n",
    "prefs = {\n",
    "    \"profile.managed_default_content_settings.images\": 2,\n",
    "    \"profile.managed_default_content_settings.stylesheets\": 2,\n",
    "    \"profile.managed_default_content_settings.plugins\": 2,\n",
    "    \"profile.managed_default_content_settings.popups\": 2,\n",
    "    \"profile.managed_default_content_settings.geolocation\": 2,\n",
    "    \"profile.managed_default_content_settings.notifications\": 2,\n",
    "    \"profile.managed_default_content_settings.media_stream\": 2,\n",
    "    \"profile.managed_default_content_settings.javascript\": 1,\n",
    "    \"profile.managed_default_content_settings.frame\": 2\n",
    "}\n",
    "\n",
    "options.add_experimental_option(\"prefs\", prefs)\n",
    "options.add_experimental_option(\"prefs\", prefs)\n",
    "options.set_capability(\"pageLoadStrategy\", \"eager\")"
   ]
  },
  {
   "cell_type": "code",
   "execution_count": null,
   "metadata": {
    "id": "5E2NcexleM3x"
   },
   "outputs": [],
   "source": [
    "driver = webdriver.Chrome(service=service, options=options)"
   ]
  },
  {
   "cell_type": "code",
   "execution_count": null,
   "metadata": {
    "id": "mC2QtEUBeM3x",
    "outputId": "780e5eb6-5881-4166-d620-f04a8628dd67"
   },
   "outputs": [],
   "source": [
    "driver.get('https://www.justicaeleitoral.jus.br/fato-ou-boato/@@pesquisar?SearchableText=&Agencias%3Alist=AFP&periodo_inicial=&periodo_final=')\n",
    "list = ['#', '\\'', '/', ',', '.', '', ']', '[', '(', ')', '*', '@', '!', '?', '|', ':', ';', '&', '–', '”', '“', '…', '=', ',', '.', '–', '\"']\n",
    "trainNews = []\n",
    "testNews = []\n",
    "aux = []\n",
    "\n",
    "for i in range(6):\n",
    "    # Find all the news cards\n",
    "    try:\n",
    "        newsCards = WebDriverWait(driver, 30).until(\n",
    "            EC.presence_of_all_elements_located(\n",
    "                (By.XPATH,\n",
    "                    '//div[@class=\"check-labels\"]//img[@src=\"https://www.justicaeleitoral.jus.br/fato-ou-boato/++theme++fatosboatos_v2/images/logos/cards/afp.png\"]'\n",
    "                )\n",
    "            )\n",
    "        )\n",
    "    except:\n",
    "        raise Exception('element not found')\n",
    "\n",
    "    for card in newsCards:\n",
    "        # Scroll to the card and click\n",
    "        try:\n",
    "            driver.execute_script(\"arguments[0].scrollIntoView({behavior:'smooth',block:'center'});\", card)\n",
    "            WebDriverWait(driver, 120).until(EC.element_to_be_clickable(card)).click()\n",
    "        except ElementClickInterceptedException:\n",
    "            print(\"error\")\n",
    "            continue\n",
    "\n",
    "        # Change the driver window\n",
    "        WebDriverWait(driver, 120).until(EC.number_of_windows_to_be(2))\n",
    "        driver.switch_to.window(driver.window_handles[-1])\n",
    "\n",
    "        # Search all the news and store them\n",
    "        try:\n",
    "            WebDriverWait(driver, 2).until(\n",
    "                EC.presence_of_element_located((By.XPATH, \"//p[1]/em\"))\n",
    "            )\n",
    "\n",
    "            newsElement = driver.find_element(By.XPATH, \"//p[1]/em\")\n",
    "\n",
    "            aux = []\n",
    "            if (random() < 0.8):\n",
    "                text = newsElement.text.strip() # Add the news\n",
    "                text = text.split()\n",
    "                for words in text:\n",
    "                    for char in list:\n",
    "                        words = words.replace(char, '')\n",
    "                    aux.append(words.lower())\n",
    "\n",
    "                aux = [word for word in aux if word != '']\n",
    "                aux.insert(0, 'f')\n",
    "                trainNews.append(aux)\n",
    "            else:\n",
    "                text = newsElement.text.strip() # Add the news\n",
    "                text = text.split()\n",
    "                for words in text:\n",
    "                    for char in list:\n",
    "                        words = words.replace(char, '')\n",
    "                    aux.append(words.lower())\n",
    "\n",
    "                aux = [word for word in aux if word != '']\n",
    "                aux.insert(0, 'f')\n",
    "                testNews.append(aux)\n",
    "        except Exception as e:\n",
    "            print(\"notícias sem dados, pulando...\")\n",
    "            driver.close()\n",
    "            driver.switch_to.window(driver.window_handles[0])\n",
    "            continue\n",
    "\n",
    "        # Close the window\n",
    "        driver.close()\n",
    "        driver.switch_to.window(driver.window_handles[0])\n",
    "\n",
    "    # Click on the next button\n",
    "    nextButton = WebDriverWait(driver, 20).until(\n",
    "            EC.element_to_be_clickable((By.XPATH, '//a[@class=\"next\" and contains(@href, \"b_start:int=\")]'))\n",
    "    )\n",
    "    driver.execute_script(\"arguments[0].scrollIntoView({behavior: 'smooth', block: 'center'});\", nextButton)\n",
    "    nextButton.click()\n",
    "\n",
    "    WebDriverWait(driver, 20).until(\n",
    "        EC.presence_of_element_located((By.XPATH, '//div[@class=\"check-labels\"]'))\n",
    "    )"
   ]
  },
  {
   "cell_type": "code",
   "execution_count": null,
   "metadata": {
    "id": "Ivyeed4HeM3y"
   },
   "outputs": [],
   "source": [
    "arqOut = open('./TRAINfakenewsAFP.txt', 'w', encoding='utf-8')\n",
    "for news in trainNews:\n",
    "    print(news, file=arqOut)\n",
    "arqOut.close()"
   ]
  },
  {
   "cell_type": "code",
   "execution_count": null,
   "metadata": {
    "id": "on1hgEUqeM3y"
   },
   "outputs": [],
   "source": [
    "arqOut = open('./TESTfakenewsAFP.txt', 'w', encoding='utf-8')\n",
    "for news in testNews:\n",
    "    print(news, file=arqOut)\n",
    "arqOut.close()"
   ]
  }
 ],
 "metadata": {
  "colab": {
   "provenance": []
  },
  "kernelspec": {
   "display_name": "Python 3",
   "language": "python",
   "name": "python3"
  },
  "language_info": {
   "codemirror_mode": {
    "name": "ipython",
    "version": 3
   },
   "file_extension": ".py",
   "mimetype": "text/x-python",
   "name": "python",
   "nbconvert_exporter": "python",
   "pygments_lexer": "ipython3",
   "version": "3.12.2"
  }
 },
 "nbformat": 4,
 "nbformat_minor": 0
}
