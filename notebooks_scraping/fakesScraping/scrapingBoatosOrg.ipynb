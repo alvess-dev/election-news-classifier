{
 "cells": [
  {
   "cell_type": "code",
   "execution_count": null,
   "metadata": {
    "id": "duwefp7GJHzb"
   },
   "outputs": [],
   "source": [
    "import time\n",
    "from random import random\n",
    "from selenium import webdriver\n",
    "from logging import raiseExceptions\n",
    "from selenium.webdriver.common.by import By\n",
    "from selenium.webdriver.chrome.service import Service\n",
    "from selenium.webdriver.support.ui import WebDriverWait\n",
    "from selenium.webdriver.support import expected_conditions as EC"
   ]
  },
  {
   "cell_type": "code",
   "execution_count": null,
   "metadata": {
    "id": "r24x20fHJHzg"
   },
   "outputs": [],
   "source": [
    "service = Service()\n",
    "options = webdriver.ChromeOptions()\n",
    "options.add_extension(\"adblock.crx\")\n",
    "options.add_argument(\"--disable-application-cache\")\n",
    "options.add_argument(\"--disable-gpu\")\n",
    "options.add_argument(\"--no-sandbox\")\n",
    "options.add_argument(\"--disable-setuid-sandbox\")\n",
    "options.add_argument(\"--disable-dev-shm-usage\")\n",
    "options.page_load_strategy = 'eager'\n",
    "prefs = {\n",
    "    \"profile.managed_default_content_settings.images\": 2,\n",
    "    \"profile.managed_default_content_settings.stylesheets\": 2,\n",
    "    \"profile.managed_default_content_settings.plugins\": 2,\n",
    "    \"profile.managed_default_content_settings.popups\": 2,\n",
    "    \"profile.managed_default_content_settings.geolocation\": 2,\n",
    "    \"profile.managed_default_content_settings.notifications\": 2,\n",
    "    \"profile.managed_default_content_settings.media_stream\": 2,\n",
    "    \"profile.managed_default_content_settings.javascript\": 1,\n",
    "    \"profile.managed_default_content_settings.frame\": 2\n",
    "}\n",
    "\n",
    "options.add_experimental_option(\"prefs\", prefs)\n",
    "options.add_experimental_option(\"prefs\", prefs)\n",
    "options.set_capability(\"pageLoadStrategy\", \"eager\")"
   ]
  },
  {
   "cell_type": "code",
   "execution_count": null,
   "metadata": {
    "id": "-Txzka-PJHzj"
   },
   "outputs": [],
   "source": [
    "driver = webdriver.Chrome(service=service, options=options)"
   ]
  },
  {
   "cell_type": "code",
   "execution_count": null,
   "metadata": {
    "id": "rRKbIPOnJHzl",
    "outputId": "2752cc5c-9688-4238-acdd-e1ef79ed6d30"
   },
   "outputs": [],
   "source": [
    "driver.get('https://www.justicaeleitoral.jus.br/fato-ou-boato/@@pesquisar?SearchableText=&Agencias%3Alist=Boatos.org&periodo_inicial=&periodo_final=#')\n",
    "list = ['#', '\\'', '/', ',', '.', '', ']', '[', '(', ')', '*', '@', '!', '?', '|', ':', ';', '&', '–', '”', '“', '…', '=', ',', '.', '–', '\"']\n",
    "trainNews = []\n",
    "testNews = []\n",
    "aux = []\n",
    "\n",
    "for i in range(5):\n",
    "    # Find all the news cards\n",
    "    try:\n",
    "        newsCards = WebDriverWait(driver, 30).until(\n",
    "            EC.presence_of_all_elements_located(\n",
    "                (By.XPATH,\n",
    "                    '//div[@class=\"check-labels\"]//img[@src=\"https://www.justicaeleitoral.jus.br/fato-ou-boato/++theme++fatosboatos_v2/images/logos/cards/boatos.png\"]'\n",
    "                )\n",
    "            )\n",
    "        )\n",
    "    except:\n",
    "        raise Exception('element not found')\n",
    "\n",
    "    for card in newsCards:\n",
    "        #  Scroll to the card and click\n",
    "        driver.execute_script(\"arguments[0].scrollIntoView({behavior:'smooth',block:'center'});\", card)\n",
    "        time.sleep(2)\n",
    "        WebDriverWait(driver, 120).until(EC.element_to_be_clickable(card)).click()\n",
    "\n",
    "        # Change the driver window\n",
    "        WebDriverWait(driver, 120).until(EC.number_of_windows_to_be(2))\n",
    "        driver.switch_to.window(driver.window_handles[-1])\n",
    "        time.sleep(1)\n",
    "\n",
    "        # Search all the news and store them\n",
    "        try:\n",
    "            WebDriverWait(driver, 600).until(\n",
    "                EC.presence_of_element_located((By.CLASS_NAME, \"entry-content\"))\n",
    "            )\n",
    "\n",
    "            time.sleep(2)\n",
    "            newsElements = driver.find_elements(By.XPATH, \"//span[@style='color: #ff0000;']\")\n",
    "\n",
    "            for news in newsElements:\n",
    "                aux = []\n",
    "                if (random() < 0.8):\n",
    "                    text = news.text.strip() # Add the news\n",
    "                    text = text.split()\n",
    "                    for words in text:\n",
    "                        for char in list:\n",
    "                            words = words.replace(char, '')\n",
    "                        aux.append(words.lower())\n",
    "\n",
    "                    aux = [palavra for palavra in aux if palavra != '']\n",
    "                    aux.insert(0, 'f')\n",
    "                    trainNews.append(aux)\n",
    "                else:\n",
    "                    text = news.text.strip() # Add the news\n",
    "                    text = text.split()\n",
    "                    for words in text:\n",
    "                        for char in list:\n",
    "                            words = words.replace(char, '')\n",
    "                        aux.append(words.lower())\n",
    "\n",
    "                    aux = [palavra for palavra in aux if palavra != '']\n",
    "                    aux.insert(0, 'f')\n",
    "                    testNews.append(aux)\n",
    "\n",
    "        except Exception as e:\n",
    "            print(\"error:\", e)\n",
    "            driver.close()\n",
    "            driver.switch_to.window(driver.window_handles[0])\n",
    "            continue\n",
    "\n",
    "        # Close the window\n",
    "        driver.close()\n",
    "        driver.switch_to.window(driver.window_handles[0])\n",
    "\n",
    "    # Click on the next button\n",
    "    nextButton = WebDriverWait(driver, 20).until(\n",
    "            EC.element_to_be_clickable((By.XPATH, '//a[@class=\"next\" and contains(@href, \"b_start:int=\")]'))\n",
    "    )\n",
    "    driver.execute_script(\"arguments[0].scrollIntoView({behavior: 'smooth', block: 'center'});\", nextButton)\n",
    "    nextButton.click()\n",
    "\n",
    "    WebDriverWait(driver, 20).until(\n",
    "        EC.presence_of_element_located((By.XPATH, '//div[@class=\"check-labels\"]'))\n",
    "    )"
   ]
  },
  {
   "cell_type": "code",
   "execution_count": null,
   "metadata": {
    "id": "gcoFGLS6JH0I"
   },
   "outputs": [],
   "source": [
    "arqOut = open('./TRAINfakenewsBoatosOrg.txt', 'w', encoding='utf-8')\n",
    "for news in trainNews:\n",
    "    print(news, file=arqOut)\n",
    "arqOut.close()"
   ]
  },
  {
   "cell_type": "code",
   "execution_count": null,
   "metadata": {
    "id": "dUiqkrNRJH0I"
   },
   "outputs": [],
   "source": [
    "arqOut = open('./TESTfakenewsBoatosOrg.txt', 'w', encoding='utf-8')\n",
    "for news in testNews:\n",
    "    print(news, file=arqOut)\n",
    "arqOut.close()"
   ]
  }
 ],
 "metadata": {
  "colab": {
   "provenance": []
  },
  "language_info": {
   "name": "python"
  }
 },
 "nbformat": 4,
 "nbformat_minor": 0
}
