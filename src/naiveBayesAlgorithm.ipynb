{
 "cells": [
  {
   "cell_type": "code",
   "execution_count": 73,
   "metadata": {
    "id": "hODfjjsJK8uR"
   },
   "outputs": [],
   "source": [
    "import pandas as pd\n",
    "import random as rd\n",
    "import numpy as np"
   ]
  },
  {
   "cell_type": "code",
   "execution_count": 67,
   "metadata": {
    "id": "9rOL4OpBK8uR"
   },
   "outputs": [],
   "source": [
    "def criarDF(nomeTxt):\n",
    "    lista = ['#', '\\'', '/', ',', '.', '', ']', '[', '(', ')', '*', '@', '!', '?', '|', ':', ';', '&', '–', '”', '“', '…', '=', ',', '.', '–', '\"', '‘', '’', '\"', ']', '’']\n",
    "    txt = open(nomeTxt, 'r', encoding='utf-8')\n",
    "    dfA = pd.DataFrame()\n",
    "    linhas = txt.readlines()\n",
    "    for linha in linhas:\n",
    "        vetor = linha.replace(\"'\", '').replace('[', '').replace(']\\n', '').split(', ')\n",
    "        for i in range(len(vetor)):\n",
    "            for char in lista:\n",
    "                vetor[i] = vetor[i].replace(char, '')\n",
    "\n",
    "        dfA = pd.concat([dfA, pd.DataFrame(data=[[vetor]], columns=['noticias'])], ignore_index=True)\n",
    "    return dfA"
   ]
  },
  {
   "cell_type": "code",
   "execution_count": 68,
   "metadata": {
    "id": "8hBAen6yK8uS"
   },
   "outputs": [],
   "source": [
    "dfFalso = criarDF('../data/train/fakeTrain.txt')\n",
    "dfReal = criarDF('../data/train/realTrain.txt')"
   ]
  },
  {
   "cell_type": "code",
   "execution_count": 69,
   "metadata": {},
   "outputs": [],
   "source": [
    "def separarTreinoTeste(dfA):\n",
    "    dfB = pd.DataFrame()\n",
    "    dfC = pd.DataFrame()\n",
    "    for i in range (len(dfA)):\n",
    "        vetor = dfA.iloc[i, 0]\n",
    "        if (rd.random() > 0.8): # vai p teste\n",
    "            dfB = pd.concat([dfB, pd.DataFrame(data=[[vetor]], columns=['noticias'])], ignore_index=True)\n",
    "        else:\n",
    "            dfC = pd.concat([dfC, pd.DataFrame(data=[[vetor]], columns=['noticias'])], ignore_index=True)\n",
    "\n",
    "    return dfB, dfC"
   ]
  },
  {
   "cell_type": "code",
   "execution_count": 70,
   "metadata": {},
   "outputs": [],
   "source": [
    "def prepararDfTeste (dfA, dfB):\n",
    "    dados = []\n",
    "\n",
    "    # embaralha os dfs\n",
    "    dfEmbaralhado = pd.concat([dfA, dfB], ignore_index=True)\n",
    "    indices = list(dfEmbaralhado.index)\n",
    "    rd.shuffle(indices)\n",
    "    dfEmbaralhado = dfEmbaralhado.iloc[indices].reset_index(drop=True)\n",
    "    \n",
    "    # cria uma coluna pra tag\n",
    "    for i in range (len(dfEmbaralhado)):\n",
    "        news = dfEmbaralhado.iloc[i, 0]\n",
    "        tag = news[0]\n",
    "        news = news[1:]\n",
    "        dados.append([tag, news])\n",
    "\n",
    "    return pd.DataFrame(dados, columns=['tag', 'noticia'])"
   ]
  },
  {
   "cell_type": "code",
   "execution_count": null,
   "metadata": {},
   "outputs": [],
   "source": [
    "def prepararDfsTreino (dfF, dfR):\n",
    "    for i in range(len(dfF)):\n",
    "        noticia = dfF.iloc[i, 0]\n",
    "        noticia.remove('f')\n",
    "\n",
    "    for i in range(len(dfR)):\n",
    "        noticia = dfR.iloc[i, 0]\n",
    "        noticia.remove('r')\n",
    "\n",
    "    # Falta fazer a logica pra separar por palavras  \n",
    "\n",
    "    return dfF, dfR"
   ]
  },
  {
   "cell_type": "code",
   "execution_count": null,
   "metadata": {
    "id": "P4VNs4t3K8uU"
   },
   "outputs": [],
   "source": [
    "def evaluate(dfReal, dfFalso, noticiasTeste):\n",
    "    # Junta os dataframes e une as palavras\n",
    "    dfJunto = dfReal.merge(dfFalso, how='outer', on='noticias')\n",
    "\n",
    "    # Conta quantas palavras tem em uma e não tem na outra\n",
    "    nReal = dfJunto.loc[dfJunto['aparicoesReais'].isna(), 'palavras'].count()\n",
    "    nFalsa = dfJunto.loc[dfJunto['aparicoesFalsas'].isna(), 'palavras'].count()\n",
    "\n",
    "    # Preenche as palavras que não aparecem com 1\n",
    "    dfJunto.fillna(1, inplace=True)\n",
    "\n",
    "    # Soma as palavras com 0 aparições com 1 para evitar multiplicação por 0\n",
    "    dfJunto.loc[dfJunto['aparicoesReais'] > 1, 'aparicoesReais'] += 1\n",
    "    dfJunto.loc[dfJunto['aparicoesFalsas'] > 1, 'aparicoesFalsas'] += 1\n",
    "\n",
    "    # Soma o total de aparições\n",
    "    totalReal = dfJunto['aparicoesReais'].sum()\n",
    "    totalFalso = dfJunto['aparicoesFalsas'].sum()\n",
    "\n",
    "    # Balanceia a ordem de grandeza das aparições\n",
    "    dfJunto['aparicoesFalsas'] *= totalReal / totalFalso\n",
    "\n",
    "    # Faz o coeficiente de bray courtis\n",
    "    dfJunto['bc'] = abs(dfJunto['aparicoesReais'] - dfJunto['aparicoesFalsas']) / (dfJunto['aparicoesReais'] + dfJunto['aparicoesFalsas'])\n",
    "\n",
    "    # Limpa palavras com coeficiente menor que 0.3 (palavras com aparições equivalentes em ambos casos)\n",
    "    dfJunto = dfJunto.loc[dfJunto['bc'] > 0.3]\n",
    "\n",
    "    # Pega o total de aparições após NLP\n",
    "    tFalsas = dfJunto['aparicoesFalsas'].sum()\n",
    "    tReais = dfJunto['aparicoesReais'].sum()\n",
    "\n",
    "    # Define um df de teste\n",
    "    dfJuntoTeste = dfJunto\n",
    "\n",
    "    # Faz os calculos das probabilidades\n",
    "    dfJuntoTeste['aparicoesFalsas'] = dfJunto['aparicoesFalsas'] / (nFalsa + tFalsas)\n",
    "    dfJuntoTeste['aparicoesReais'] = dfJunto['aparicoesReais'] / (nReal + tReais)\n",
    "\n",
    "    # Pega o log na base 10\n",
    "    dfJuntoTeste['aparicoesFalsas'] = np.log10(dfJuntoTeste['aparicoesFalsas'])\n",
    "    dfJuntoTeste['aparicoesReais'] = np.log10(dfJuntoTeste['aparicoesReais'])\n",
    "\n",
    "    # NOTICIA:\n",
    "    \n",
    "    indices = ['fF', 'fR', 'rF', 'rR']\n",
    "    dfDados = pd.DataFrame(0, index=indices, columns=['num'])\n",
    "\n",
    "    for i in range (len(noticiasTeste)):\n",
    "        noticia = noticiasTeste.iloc[i, 1]\n",
    "        tag = noticiasTeste.iloc[i, 0]\n",
    "\n",
    "        # Cria um df com a notícia limpa\n",
    "        dfNoticia = pd.DataFrame(data = noticia, columns=['palavra'])\n",
    "        print(dfNoticia)\n",
    "\n",
    "        # Junta o df da noticia com o das probabilidades\n",
    "        dfNoticia = dfNoticia.merge(dfJuntoTeste, how='inner', left_on='palavra', right_on='palavras')\n",
    "\n",
    "        # Faz a soma das probabilidades\n",
    "        iFalsa = dfNoticia['aparicoesFalsas'].sum()\n",
    "        iReal = dfNoticia['aparicoesReais'].sum()\n",
    "\n",
    "        # Confere o resultado\n",
    "        if (iFalsa > iReal): # Falsa\n",
    "            resultado = 'F'\n",
    "        else:\n",
    "            resultado = 'R'\n",
    "            \n",
    "        chave = tag + resultado\n",
    "        dfDados.loc[chave, 'num'] += 1\n",
    "        \n",
    "    return dfDados"
   ]
  },
  {
   "cell_type": "code",
   "execution_count": null,
   "metadata": {},
   "outputs": [],
   "source": [
    "for i in range(36):\n",
    "    [dfFalsoTeste, dfFalsoTreino] = separarTreinoTeste(dfFalso)\n",
    "    [dfRealTeste, dfRealTreino] = separarTreinoTeste(dfReal)\n",
    "\n",
    "    dfTestes = prepararDfTeste(dfFalsoTeste, dfRealTeste)\n",
    "    [dfFalsoTreino, dfRealTreino] = prepararDfsTreino(dfFalsoTreino, dfRealTreino)\n",
    "\n",
    "    # data = evaluate(dfRealTreino, dfFalsoTreino, dfTestes)\n",
    "    "
   ]
  },
  {
   "cell_type": "markdown",
   "metadata": {
    "id": "bKsKj20nK8uU"
   },
   "source": [
    "CÓDIGO ANTIGO"
   ]
  },
  {
   "cell_type": "code",
   "execution_count": null,
   "metadata": {
    "id": "XA3Ox1bMK8uV"
   },
   "outputs": [],
   "source": [
    "dfJunto = dfReal.merge(dfFalso, how='outer')"
   ]
  },
  {
   "cell_type": "code",
   "execution_count": null,
   "metadata": {
    "id": "U6iMR0EVK8uW"
   },
   "outputs": [],
   "source": [
    "nReal = dfJunto.loc[dfJunto['aparicoesReais'].isna(), 'palavras'].count()\n",
    "nFalsa = dfJunto.loc[dfJunto['aparicoesFalsas'].isna(), 'palavras'].count()"
   ]
  },
  {
   "cell_type": "code",
   "execution_count": null,
   "metadata": {
    "id": "ArqO05tWK8uW"
   },
   "outputs": [],
   "source": [
    "dfJunto.fillna(1, inplace=True)"
   ]
  },
  {
   "cell_type": "code",
   "execution_count": null,
   "metadata": {
    "id": "TY9E0MHjK8uW"
   },
   "outputs": [],
   "source": [
    "dfJunto.loc[dfJunto['aparicoesReais'] > 1, 'aparicoesReais'] += 1\n",
    "dfJunto.loc[dfJunto['aparicoesFalsas'] > 1, 'aparicoesFalsas'] += 1"
   ]
  },
  {
   "cell_type": "code",
   "execution_count": null,
   "metadata": {
    "id": "5LVzMvYzK8uW"
   },
   "outputs": [],
   "source": [
    "totalReal = dfJunto['aparicoesReais'].sum()\n",
    "totalFalso = dfJunto['aparicoesFalsas'].sum()"
   ]
  },
  {
   "cell_type": "code",
   "execution_count": null,
   "metadata": {
    "id": "a88DXdoUK8uW"
   },
   "outputs": [],
   "source": [
    "dfJunto['aparicoesFalsas'] *= totalReal / totalFalso"
   ]
  },
  {
   "cell_type": "code",
   "execution_count": null,
   "metadata": {
    "id": "yUMqGsxYK8uW"
   },
   "outputs": [],
   "source": [
    "dfJunto['bc'] = abs(dfJunto['aparicoesReais'] - dfJunto['aparicoesFalsas']) / (dfJunto['aparicoesReais'] + dfJunto['aparicoesFalsas'])"
   ]
  },
  {
   "cell_type": "code",
   "execution_count": null,
   "metadata": {
    "id": "l3EIw5j-K8uW"
   },
   "outputs": [],
   "source": [
    "dfJunto = dfJunto.loc[dfJunto['bc'] > 0.3]"
   ]
  },
  {
   "cell_type": "code",
   "execution_count": null,
   "metadata": {
    "id": "uzi5TcdAK8uX"
   },
   "outputs": [],
   "source": [
    "tFalsas = dfJunto['aparicoesFalsas'].sum()\n",
    "tReais = dfJunto['aparicoesReais'].sum()"
   ]
  },
  {
   "cell_type": "code",
   "execution_count": null,
   "metadata": {
    "id": "UX4pFUGjK8uX",
    "outputId": "a2c506f8-c54f-45a2-f622-aee9157c0c2d"
   },
   "outputs": [
    {
     "data": {
      "text/html": [
       "<div>\n",
       "<style scoped>\n",
       "    .dataframe tbody tr th:only-of-type {\n",
       "        vertical-align: middle;\n",
       "    }\n",
       "\n",
       "    .dataframe tbody tr th {\n",
       "        vertical-align: top;\n",
       "    }\n",
       "\n",
       "    .dataframe thead th {\n",
       "        text-align: right;\n",
       "    }\n",
       "</style>\n",
       "<table border=\"1\" class=\"dataframe\">\n",
       "  <thead>\n",
       "    <tr style=\"text-align: right;\">\n",
       "      <th></th>\n",
       "      <th>palavras</th>\n",
       "      <th>aparicoesReais</th>\n",
       "      <th>aparicoesFalsas</th>\n",
       "      <th>bc</th>\n",
       "    </tr>\n",
       "  </thead>\n",
       "  <tbody>\n",
       "    <tr>\n",
       "      <th>0</th>\n",
       "      <td>%</td>\n",
       "      <td>1.0</td>\n",
       "      <td>26.093942</td>\n",
       "      <td>0.926183</td>\n",
       "    </tr>\n",
       "    <tr>\n",
       "      <th>1</th>\n",
       "      <td>&amp;</td>\n",
       "      <td>1.0</td>\n",
       "      <td>14.403856</td>\n",
       "      <td>0.870162</td>\n",
       "    </tr>\n",
       "    <tr>\n",
       "      <th>4</th>\n",
       "      <td>-pe</td>\n",
       "      <td>1.0</td>\n",
       "      <td>3.966279</td>\n",
       "      <td>0.597284</td>\n",
       "    </tr>\n",
       "    <tr>\n",
       "      <th>7</th>\n",
       "      <td>0</td>\n",
       "      <td>5.0</td>\n",
       "      <td>0.626255</td>\n",
       "      <td>0.777381</td>\n",
       "    </tr>\n",
       "    <tr>\n",
       "      <th>13</th>\n",
       "      <td>0000</td>\n",
       "      <td>1.0</td>\n",
       "      <td>3.966279</td>\n",
       "      <td>0.597284</td>\n",
       "    </tr>\n",
       "    <tr>\n",
       "      <th>...</th>\n",
       "      <td>...</td>\n",
       "      <td>...</td>\n",
       "      <td>...</td>\n",
       "      <td>...</td>\n",
       "    </tr>\n",
       "    <tr>\n",
       "      <th>19233</th>\n",
       "      <td>😡</td>\n",
       "      <td>1.0</td>\n",
       "      <td>11.272583</td>\n",
       "      <td>0.837035</td>\n",
       "    </tr>\n",
       "    <tr>\n",
       "      <th>19234</th>\n",
       "      <td>🙄🙄🙄</td>\n",
       "      <td>1.0</td>\n",
       "      <td>22.336414</td>\n",
       "      <td>0.914297</td>\n",
       "    </tr>\n",
       "    <tr>\n",
       "      <th>19235</th>\n",
       "      <td>🚨</td>\n",
       "      <td>1.0</td>\n",
       "      <td>3.966279</td>\n",
       "      <td>0.597284</td>\n",
       "    </tr>\n",
       "    <tr>\n",
       "      <th>19236</th>\n",
       "      <td>🤣🤣🤣</td>\n",
       "      <td>1.0</td>\n",
       "      <td>22.336414</td>\n",
       "      <td>0.914297</td>\n",
       "    </tr>\n",
       "    <tr>\n",
       "      <th>19237</th>\n",
       "      <td>🥃</td>\n",
       "      <td>1.0</td>\n",
       "      <td>22.336414</td>\n",
       "      <td>0.914297</td>\n",
       "    </tr>\n",
       "  </tbody>\n",
       "</table>\n",
       "<p>17726 rows × 4 columns</p>\n",
       "</div>"
      ],
      "text/plain": [
       "      palavras  aparicoesReais  aparicoesFalsas        bc\n",
       "0            %             1.0        26.093942  0.926183\n",
       "1            &             1.0        14.403856  0.870162\n",
       "4          -pe             1.0         3.966279  0.597284\n",
       "7            0             5.0         0.626255  0.777381\n",
       "13        0000             1.0         3.966279  0.597284\n",
       "...        ...             ...              ...       ...\n",
       "19233        😡             1.0        11.272583  0.837035\n",
       "19234      🙄🙄🙄             1.0        22.336414  0.914297\n",
       "19235        🚨             1.0         3.966279  0.597284\n",
       "19236      🤣🤣🤣             1.0        22.336414  0.914297\n",
       "19237        🥃             1.0        22.336414  0.914297\n",
       "\n",
       "[17726 rows x 4 columns]"
      ]
     },
     "execution_count": 42,
     "metadata": {},
     "output_type": "execute_result"
    }
   ],
   "source": [
    "dfJunto"
   ]
  },
  {
   "cell_type": "code",
   "execution_count": null,
   "metadata": {
    "id": "RUKXR_LnK8uX"
   },
   "outputs": [],
   "source": [
    "dfJuntoTeste = dfJunto"
   ]
  },
  {
   "cell_type": "code",
   "execution_count": null,
   "metadata": {
    "id": "aHzScaFpK8uX",
    "outputId": "70e422ef-7465-4efd-b2c1-10dfdd39e320"
   },
   "outputs": [
    {
     "name": "stderr",
     "output_type": "stream",
     "text": [
      "C:\\Users\\CEITELABINFO\\AppData\\Local\\Temp\\ipykernel_12024\\229914731.py:1: SettingWithCopyWarning: \n",
      "A value is trying to be set on a copy of a slice from a DataFrame.\n",
      "Try using .loc[row_indexer,col_indexer] = value instead\n",
      "\n",
      "See the caveats in the documentation: https://pandas.pydata.org/pandas-docs/stable/user_guide/indexing.html#returning-a-view-versus-a-copy\n",
      "  dfJuntoTeste['aparicoesFalsas'] = dfJunto['aparicoesFalsas'] / (nFalsa + tFalsas)\n",
      "C:\\Users\\CEITELABINFO\\AppData\\Local\\Temp\\ipykernel_12024\\229914731.py:2: SettingWithCopyWarning: \n",
      "A value is trying to be set on a copy of a slice from a DataFrame.\n",
      "Try using .loc[row_indexer,col_indexer] = value instead\n",
      "\n",
      "See the caveats in the documentation: https://pandas.pydata.org/pandas-docs/stable/user_guide/indexing.html#returning-a-view-versus-a-copy\n",
      "  dfJuntoTeste['aparicoesReais'] = dfJunto['aparicoesReais'] / (nReal + tReais)\n"
     ]
    },
    {
     "data": {
      "text/html": [
       "<div>\n",
       "<style scoped>\n",
       "    .dataframe tbody tr th:only-of-type {\n",
       "        vertical-align: middle;\n",
       "    }\n",
       "\n",
       "    .dataframe tbody tr th {\n",
       "        vertical-align: top;\n",
       "    }\n",
       "\n",
       "    .dataframe thead th {\n",
       "        text-align: right;\n",
       "    }\n",
       "</style>\n",
       "<table border=\"1\" class=\"dataframe\">\n",
       "  <thead>\n",
       "    <tr style=\"text-align: right;\">\n",
       "      <th></th>\n",
       "      <th>palavras</th>\n",
       "      <th>aparicoesReais</th>\n",
       "      <th>aparicoesFalsas</th>\n",
       "      <th>bc</th>\n",
       "    </tr>\n",
       "  </thead>\n",
       "  <tbody>\n",
       "    <tr>\n",
       "      <th>0</th>\n",
       "      <td>%</td>\n",
       "      <td>0.000003</td>\n",
       "      <td>0.000086</td>\n",
       "      <td>0.926183</td>\n",
       "    </tr>\n",
       "    <tr>\n",
       "      <th>1</th>\n",
       "      <td>&amp;</td>\n",
       "      <td>0.000003</td>\n",
       "      <td>0.000047</td>\n",
       "      <td>0.870162</td>\n",
       "    </tr>\n",
       "    <tr>\n",
       "      <th>4</th>\n",
       "      <td>-pe</td>\n",
       "      <td>0.000003</td>\n",
       "      <td>0.000013</td>\n",
       "      <td>0.597284</td>\n",
       "    </tr>\n",
       "    <tr>\n",
       "      <th>7</th>\n",
       "      <td>0</td>\n",
       "      <td>0.000016</td>\n",
       "      <td>0.000002</td>\n",
       "      <td>0.777381</td>\n",
       "    </tr>\n",
       "    <tr>\n",
       "      <th>13</th>\n",
       "      <td>0000</td>\n",
       "      <td>0.000003</td>\n",
       "      <td>0.000013</td>\n",
       "      <td>0.597284</td>\n",
       "    </tr>\n",
       "    <tr>\n",
       "      <th>...</th>\n",
       "      <td>...</td>\n",
       "      <td>...</td>\n",
       "      <td>...</td>\n",
       "      <td>...</td>\n",
       "    </tr>\n",
       "    <tr>\n",
       "      <th>19233</th>\n",
       "      <td>😡</td>\n",
       "      <td>0.000003</td>\n",
       "      <td>0.000037</td>\n",
       "      <td>0.837035</td>\n",
       "    </tr>\n",
       "    <tr>\n",
       "      <th>19234</th>\n",
       "      <td>🙄🙄🙄</td>\n",
       "      <td>0.000003</td>\n",
       "      <td>0.000073</td>\n",
       "      <td>0.914297</td>\n",
       "    </tr>\n",
       "    <tr>\n",
       "      <th>19235</th>\n",
       "      <td>🚨</td>\n",
       "      <td>0.000003</td>\n",
       "      <td>0.000013</td>\n",
       "      <td>0.597284</td>\n",
       "    </tr>\n",
       "    <tr>\n",
       "      <th>19236</th>\n",
       "      <td>🤣🤣🤣</td>\n",
       "      <td>0.000003</td>\n",
       "      <td>0.000073</td>\n",
       "      <td>0.914297</td>\n",
       "    </tr>\n",
       "    <tr>\n",
       "      <th>19237</th>\n",
       "      <td>🥃</td>\n",
       "      <td>0.000003</td>\n",
       "      <td>0.000073</td>\n",
       "      <td>0.914297</td>\n",
       "    </tr>\n",
       "  </tbody>\n",
       "</table>\n",
       "<p>17726 rows × 4 columns</p>\n",
       "</div>"
      ],
      "text/plain": [
       "      palavras  aparicoesReais  aparicoesFalsas        bc\n",
       "0            %        0.000003         0.000086  0.926183\n",
       "1            &        0.000003         0.000047  0.870162\n",
       "4          -pe        0.000003         0.000013  0.597284\n",
       "7            0        0.000016         0.000002  0.777381\n",
       "13        0000        0.000003         0.000013  0.597284\n",
       "...        ...             ...              ...       ...\n",
       "19233        😡        0.000003         0.000037  0.837035\n",
       "19234      🙄🙄🙄        0.000003         0.000073  0.914297\n",
       "19235        🚨        0.000003         0.000013  0.597284\n",
       "19236      🤣🤣🤣        0.000003         0.000073  0.914297\n",
       "19237        🥃        0.000003         0.000073  0.914297\n",
       "\n",
       "[17726 rows x 4 columns]"
      ]
     },
     "execution_count": 44,
     "metadata": {},
     "output_type": "execute_result"
    }
   ],
   "source": [
    "dfJuntoTeste['aparicoesFalsas'] = dfJunto['aparicoesFalsas'] / (nFalsa + tFalsas)\n",
    "dfJuntoTeste['aparicoesReais'] = dfJunto['aparicoesReais'] / (nReal + tReais)\n",
    "dfJuntoTeste"
   ]
  },
  {
   "cell_type": "code",
   "execution_count": null,
   "metadata": {
    "id": "PZKmx6PPK8uX"
   },
   "outputs": [],
   "source": [
    "import numpy as np"
   ]
  },
  {
   "cell_type": "code",
   "execution_count": null,
   "metadata": {
    "id": "BrhIDSRCK8uX",
    "outputId": "265e8893-b02d-4063-fa9a-5142e7be9bfe"
   },
   "outputs": [
    {
     "name": "stderr",
     "output_type": "stream",
     "text": [
      "C:\\Users\\CEITELABINFO\\AppData\\Local\\Temp\\ipykernel_12024\\2118644562.py:1: SettingWithCopyWarning: \n",
      "A value is trying to be set on a copy of a slice from a DataFrame.\n",
      "Try using .loc[row_indexer,col_indexer] = value instead\n",
      "\n",
      "See the caveats in the documentation: https://pandas.pydata.org/pandas-docs/stable/user_guide/indexing.html#returning-a-view-versus-a-copy\n",
      "  dfJuntoTeste['aparicoesFalsas'] = np.log10(dfJuntoTeste['aparicoesFalsas'])\n",
      "C:\\Users\\CEITELABINFO\\AppData\\Local\\Temp\\ipykernel_12024\\2118644562.py:2: SettingWithCopyWarning: \n",
      "A value is trying to be set on a copy of a slice from a DataFrame.\n",
      "Try using .loc[row_indexer,col_indexer] = value instead\n",
      "\n",
      "See the caveats in the documentation: https://pandas.pydata.org/pandas-docs/stable/user_guide/indexing.html#returning-a-view-versus-a-copy\n",
      "  dfJuntoTeste['aparicoesReais'] = np.log10(dfJuntoTeste['aparicoesReais'])\n"
     ]
    }
   ],
   "source": [
    "dfJuntoTeste['aparicoesFalsas'] = np.log10(dfJuntoTeste['aparicoesFalsas'])\n",
    "dfJuntoTeste['aparicoesReais'] = np.log10(dfJuntoTeste['aparicoesReais'])"
   ]
  },
  {
   "cell_type": "code",
   "execution_count": null,
   "metadata": {
    "id": "RvfNJslsK8uX"
   },
   "outputs": [],
   "source": [
    "noticia = 'Agora não sei se você viu lá no grupo que eu postei hoje, as pessoas novas que tiraram o título esse ano ou os que transferiram, que foi o meu caso, que eu transferi de Caldas Novas para cá, o título, eles dão um papel só, uma folha de papel compridinho assim, que é para você registrar na hora. Aí lá tem um QR Code que tem escrito Lula 13.'\n",
    "noticia = noticia.lower()\n",
    "noticia = noticia.split()\n",
    "lista = ['#', '\\'', '/', ',', '.', '', ']', '[', '(', ')', '*', '@', '!', '?', '|', ':', ';', '&']\n",
    "noticiaFormatada = []\n",
    "\n",
    "for palavras in noticia:\n",
    "    for char in lista:\n",
    "        palavras = palavras.replace(char, '')\n",
    "    noticiaFormatada.append(palavras)"
   ]
  },
  {
   "cell_type": "code",
   "execution_count": null,
   "metadata": {
    "id": "buK5NKcWK8uX",
    "outputId": "9986eb22-bd1d-40f1-866a-ee211615cf88"
   },
   "outputs": [
    {
     "data": {
      "text/html": [
       "<div>\n",
       "<style scoped>\n",
       "    .dataframe tbody tr th:only-of-type {\n",
       "        vertical-align: middle;\n",
       "    }\n",
       "\n",
       "    .dataframe tbody tr th {\n",
       "        vertical-align: top;\n",
       "    }\n",
       "\n",
       "    .dataframe thead th {\n",
       "        text-align: right;\n",
       "    }\n",
       "</style>\n",
       "<table border=\"1\" class=\"dataframe\">\n",
       "  <thead>\n",
       "    <tr style=\"text-align: right;\">\n",
       "      <th></th>\n",
       "      <th>palavra</th>\n",
       "    </tr>\n",
       "  </thead>\n",
       "  <tbody>\n",
       "    <tr>\n",
       "      <th>0</th>\n",
       "      <td>agora</td>\n",
       "    </tr>\n",
       "    <tr>\n",
       "      <th>1</th>\n",
       "      <td>não</td>\n",
       "    </tr>\n",
       "    <tr>\n",
       "      <th>2</th>\n",
       "      <td>sei</td>\n",
       "    </tr>\n",
       "    <tr>\n",
       "      <th>3</th>\n",
       "      <td>se</td>\n",
       "    </tr>\n",
       "    <tr>\n",
       "      <th>4</th>\n",
       "      <td>você</td>\n",
       "    </tr>\n",
       "    <tr>\n",
       "      <th>...</th>\n",
       "      <td>...</td>\n",
       "    </tr>\n",
       "    <tr>\n",
       "      <th>65</th>\n",
       "      <td>que</td>\n",
       "    </tr>\n",
       "    <tr>\n",
       "      <th>66</th>\n",
       "      <td>tem</td>\n",
       "    </tr>\n",
       "    <tr>\n",
       "      <th>67</th>\n",
       "      <td>escrito</td>\n",
       "    </tr>\n",
       "    <tr>\n",
       "      <th>68</th>\n",
       "      <td>lula</td>\n",
       "    </tr>\n",
       "    <tr>\n",
       "      <th>69</th>\n",
       "      <td>13</td>\n",
       "    </tr>\n",
       "  </tbody>\n",
       "</table>\n",
       "<p>70 rows × 1 columns</p>\n",
       "</div>"
      ],
      "text/plain": [
       "    palavra\n",
       "0     agora\n",
       "1       não\n",
       "2       sei\n",
       "3        se\n",
       "4      você\n",
       "..      ...\n",
       "65      que\n",
       "66      tem\n",
       "67  escrito\n",
       "68     lula\n",
       "69       13\n",
       "\n",
       "[70 rows x 1 columns]"
      ]
     },
     "execution_count": 64,
     "metadata": {},
     "output_type": "execute_result"
    }
   ],
   "source": [
    "dfNoticia = pd.DataFrame(data = noticiaFormatada, columns=['palavra'])\n",
    "dfNoticia"
   ]
  },
  {
   "cell_type": "code",
   "execution_count": null,
   "metadata": {
    "id": "uU9cbsx-K8uY"
   },
   "outputs": [],
   "source": [
    "dfNoticia = dfNoticia.merge(dfJuntoTeste, how='inner', left_on='palavra', right_on='palavras')"
   ]
  },
  {
   "cell_type": "code",
   "execution_count": null,
   "metadata": {
    "id": "pVoZYfGdK8uY"
   },
   "outputs": [],
   "source": [
    "iFalsa = dfNoticia['aparicoesFalsas'].sum()\n",
    "iReal = dfNoticia['aparicoesReais'].sum()"
   ]
  },
  {
   "cell_type": "code",
   "execution_count": null,
   "metadata": {
    "id": "dmFefZflK8uY",
    "outputId": "f2a39895-7c70-4290-cd8d-6b323f1c8e9e"
   },
   "outputs": [
    {
     "name": "stdout",
     "output_type": "stream",
     "text": [
      "-98.09150096776183\t-116.72186390297516\n"
     ]
    }
   ],
   "source": [
    "print(f'{iFalsa}\\t{iReal}')"
   ]
  },
  {
   "cell_type": "code",
   "execution_count": null,
   "metadata": {
    "id": "qEmsgmU-K8uY",
    "outputId": "2fb25445-904b-482a-ed00-9fcf3632f8d4"
   },
   "outputs": [
    {
     "name": "stdout",
     "output_type": "stream",
     "text": [
      "Noticia Falsa!\n"
     ]
    }
   ],
   "source": [
    "if (iFalsa > iReal):\n",
    "    print(\"Noticia Falsa!\")\n",
    "else:\n",
    "    print(\"Noticia Real!\")"
   ]
  }
 ],
 "metadata": {
  "colab": {
   "provenance": []
  },
  "kernelspec": {
   "display_name": "Python 3",
   "language": "python",
   "name": "python3"
  },
  "language_info": {
   "codemirror_mode": {
    "name": "ipython",
    "version": 3
   },
   "file_extension": ".py",
   "mimetype": "text/x-python",
   "name": "python",
   "nbconvert_exporter": "python",
   "pygments_lexer": "ipython3",
   "version": "3.13.2"
  }
 },
 "nbformat": 4,
 "nbformat_minor": 0
}
