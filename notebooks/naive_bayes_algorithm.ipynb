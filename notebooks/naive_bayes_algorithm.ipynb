{
 "cells": [
  {
   "cell_type": "code",
   "execution_count": 1,
   "metadata": {
    "id": "hODfjjsJK8uR"
   },
   "outputs": [],
   "source": [
    "import pandas as pd\n",
    "import random as rd\n",
    "import numpy as np"
   ]
  },
  {
   "cell_type": "code",
   "execution_count": 2,
   "metadata": {},
   "outputs": [],
   "source": [
    "def separarTreinoTeste(dfA):\n",
    "    dfB = dfA\n",
    "    dfC = pd.DataFrame()\n",
    "    for i in range (len(dfA)):\n",
    "        vetor = dfA.iloc[i, 0]\n",
    "        if (rd.random() > 0.8): # vai p teste\n",
    "            dfB = pd.concat([dfB, pd.DataFrame(data=[[vetor]], columns=['noticias'])], ignore_index=True)\n",
    "        else:\n",
    "            dfC = pd.concat([dfC, pd.DataFrame(data=[[vetor]], columns=['noticias'])], ignore_index=True)\n",
    "\n",
    "    return dfB, dfC"
   ]
  },
  {
   "cell_type": "code",
   "execution_count": 3,
   "metadata": {},
   "outputs": [],
   "source": [
    "def prepararDfTeste (dfA, dfB):\n",
    "    # embaralha os dfs\n",
    "    dfEmbaralhado = pd.concat([dfA, dfB], ignore_index=True)\n",
    "    indices = list(dfEmbaralhado.index)\n",
    "    rd.shuffle(indices)\n",
    "    \n",
    "    tags = []\n",
    "    noticias = []\n",
    "\n",
    "    # cria uma coluna pra tag\n",
    "    for i in indices:\n",
    "        news = dfEmbaralhado.iloc[i, 0]\n",
    "        tags.append(news[0])\n",
    "        noticias.append(news[1:])\n",
    "\n",
    "    return pd.DataFrame({'tag': tags, 'noticia': noticias})"
   ]
  },
  {
   "cell_type": "code",
   "execution_count": 4,
   "metadata": {},
   "outputs": [],
   "source": [
    "def prepararDfsTreino (dfF, dfR):\n",
    "    # Falsas\n",
    "    palavrasFalsas = []\n",
    "    for i in range(len(dfF)):\n",
    "        noticia = dfF.iloc[i,0][1:]\n",
    "        palavrasFalsas.extend(noticia)\n",
    "    dfF = pd.DataFrame({'palavras': palavrasFalsas})\n",
    "    dfF = dfF.groupby('palavras').size().reset_index(name='aparicoesFalsas')\n",
    "\n",
    "    palavrasFalsas = []\n",
    "    for i in range(len(dfR)):\n",
    "        noticia = dfR.iloc[i,0][1:]\n",
    "        palavrasFalsas.extend(noticia)\n",
    "    dfR = pd.DataFrame({'palavras': palavrasFalsas})\n",
    "    dfR = dfR.groupby('palavras').size().reset_index(name='aparicoesReais')\n",
    "    palavras = []\n",
    "\n",
    "    return dfF, dfR"
   ]
  },
  {
   "cell_type": "code",
   "execution_count": 120,
   "metadata": {
    "id": "P4VNs4t3K8uU"
   },
   "outputs": [],
   "source": [
    "def evaluate(dfReal, dfFalso, noticiasTeste, limiar):\n",
    "    # Junta os dataframes e une as palavras\n",
    "    dfJunto = dfReal.merge(dfFalso, how='outer')\n",
    "\n",
    "    # Conta quantas palavras tem em uma e não tem na outra\n",
    "    nReal = dfJunto.loc[dfJunto['aparicoesReais'].isna(), 'palavras'].count()\n",
    "    nFalsa = dfJunto.loc[dfJunto['aparicoesFalsas'].isna(), 'palavras'].count()\n",
    "\n",
    "    # Preenche as palavras que não aparecem com 1\n",
    "    dfJunto.fillna(1, inplace=True)\n",
    "\n",
    "    # Soma as palavras com 0 aparições com 1 para evitar multiplicação por 0\n",
    "    dfJunto.loc[dfJunto['aparicoesReais'] > 1, 'aparicoesReais'] += 1\n",
    "    dfJunto.loc[dfJunto['aparicoesFalsas'] > 1, 'aparicoesFalsas'] += 1\n",
    "\n",
    "    # Remove linhas onde a coluna 'palavras' é vazia ou só espaço\n",
    "    dfJunto = dfJunto[dfJunto['palavras'].str.strip() != '']\n",
    "\n",
    "    # Mantém só palavras que têm pelo menos uma letra (a–z ou A–Z ou acentuadas)\n",
    "    dfJunto = dfJunto[dfJunto['palavras'].str.match(r'^[A-Za-zÀ-ÖØ-öø-ÿ]+$', na=False)]\n",
    "\n",
    "    # Soma o total de aparições\n",
    "    totalReal = dfJunto['aparicoesReais'].sum()\n",
    "    totalFalso = dfJunto['aparicoesFalsas'].sum()\n",
    "\n",
    "    # Balanceia a ordem de grandeza das aparições\n",
    "    dfJunto['aparicoesFalsas'] *= totalReal / totalFalso\n",
    "\n",
    "    # Faz o coeficiente de bray courtis\n",
    "    dfJunto['bc'] = abs(dfJunto['aparicoesReais'] - dfJunto['aparicoesFalsas']) / (dfJunto['aparicoesReais'] + dfJunto['aparicoesFalsas'])\n",
    "\n",
    "    # Limpa palavras com coeficiente menor que 0.3 (palavras com aparições equivalentes em ambos casos)\n",
    "    dfJunto = dfJunto.loc[dfJunto['bc'] > limiar]\n",
    "\n",
    "    # Pega o total de aparições após NLP\n",
    "    tFalsas = dfJunto['aparicoesFalsas'].sum()\n",
    "    tReais = dfJunto['aparicoesReais'].sum()\n",
    "\n",
    "    # Define um df de teste\n",
    "    dfJuntoTeste = dfJunto\n",
    "\n",
    "    # Faz os calculos das probabilidades\n",
    "    dfJuntoTeste['aparicoesFalsas'] = dfJunto['aparicoesFalsas'] / (nFalsa + tFalsas)\n",
    "    dfJuntoTeste['aparicoesReais'] = dfJunto['aparicoesReais'] / (nReal + tReais)\n",
    "\n",
    "    # Pega o log na base 10\n",
    "    dfJuntoTeste['aparicoesFalsas'] = np.log10(dfJuntoTeste['aparicoesFalsas'])\n",
    "    dfJuntoTeste['aparicoesReais'] = np.log10(dfJuntoTeste['aparicoesReais'])\n",
    "\n",
    "    # NOTICIA:\n",
    "    \n",
    "    indices = ['fF', 'fR', 'rF', 'rR']\n",
    "    dfDados = pd.DataFrame(0, index=indices, columns=['num'])\n",
    "\n",
    "    for i in range (len(noticiasTeste)):\n",
    "        noticia = noticiasTeste.iloc[i, 1]\n",
    "        tag = noticiasTeste.iloc[i, 0]\n",
    "\n",
    "        # Cria um df com a notícia limpa\n",
    "        dfNoticia = pd.DataFrame(data = noticia, columns=['palavra'])\n",
    "\n",
    "        # Junta o df da noticia com o das probabilidades\n",
    "        dfNoticia = dfNoticia.merge(dfJuntoTeste, how='inner', left_on='palavra', right_on='palavras')\n",
    "\n",
    "        # Faz a soma das probabilidades\n",
    "        iFalsa = dfNoticia['aparicoesFalsas'].sum()\n",
    "        iReal = dfNoticia['aparicoesReais'].sum()\n",
    "\n",
    "        # Confere o resultado\n",
    "        if (iFalsa > iReal): # Falsa\n",
    "            resultado = 'F'\n",
    "        elif (iReal == iFalsa): # Empate\n",
    "            resultado = 'E'\n",
    "        else:\n",
    "            resultado = 'R'\n",
    "            \n",
    "        chave = tag + resultado\n",
    "        try:\n",
    "            dfDados.loc[chave, 'num'] += 1\n",
    "        except:\n",
    "            pass\n",
    "\n",
    "    return dfDados"
   ]
  },
  {
   "cell_type": "code",
   "execution_count": 6,
   "metadata": {},
   "outputs": [],
   "source": [
    "def calcularDPMedia(dados):\n",
    "    n = len(dados)\n",
    "    media = sum(dados) / n\n",
    "    soma_dif_quadrados = sum((x - media) ** 2 for x in dados)\n",
    "    dp = (soma_dif_quadrados / (n - 1)) ** 0.5\n",
    "    return dp, media\n"
   ]
  },
  {
   "cell_type": "code",
   "execution_count": 7,
   "metadata": {},
   "outputs": [],
   "source": [
    "def calcularDPMedia(dados):\n",
    "    n = len(dados)\n",
    "    media = sum(dados) / n\n",
    "\n",
    "    somaDiferencaQuadrados = 0\n",
    "    for valor in dados:\n",
    "        somaDiferencaQuadrados += (valor - media) ** 2\n",
    "\n",
    "    dp = (somaDiferencaQuadrados / (n-1)) ** 0.5\n",
    "    return dp, media"
   ]
  },
  {
   "cell_type": "code",
   "execution_count": 8,
   "metadata": {},
   "outputs": [],
   "source": [
    "def calcularIntervaloConfianca(dp, media, n, z=1.96):\n",
    "    margem = z * dp / (n ** 0.5)\n",
    "    return media - margem, media + margem"
   ]
  },
  {
   "cell_type": "code",
   "execution_count": null,
   "metadata": {},
   "outputs": [],
   "source": [
    "#Calcula o Generalized Jaccard\n",
    "\n",
    "#dfUnido['jaccard'] = np.minimum(dfUnido['aparicoesReais'], dfUnido['aparicoesFalsas']) / np.maximum(dfUnido['aparicoesReais'], dfUnido['aparicoesFalsas'])\n",
    "#https://distancia.readthedocs.io/en/latest/GeneralizedJaccard.html"
   ]
  },
  {
   "cell_type": "code",
   "execution_count": null,
   "metadata": {},
   "outputs": [],
   "source": [
    "dfFalsoOriginal = pd.read_json('../data/train/fakeTrain.json', orient='records', lines=True)\n",
    "dfRealOriginal = pd.read_json('../data/train/realTrain.json', orient='records', lines=True)\n",
    "\n",
    "matrizesDeConfusao = [[0.1, 0.2, 0.3, 0.4, 0.5, 0.6, 0.7, 0.8, 0.9]]\n",
    "\n",
    "for i in range(5):\n",
    "    print(i)\n",
    "    dfFalso = dfFalsoOriginal.copy()\n",
    "    dfReal = dfRealOriginal.copy()\n",
    "\n",
    "    # separa em treino e teste\n",
    "    [dfFalsoTeste, dfFalsoTreino] = separarTreinoTeste(dfFalso)\n",
    "    [dfRealTeste, dfRealTreino] = separarTreinoTeste(dfReal)\n",
    "\n",
    "    # mistura os dados de teste\n",
    "    dfTestes = prepararDfTeste(dfFalsoTeste, dfRealTeste)\n",
    "\n",
    "    # prepara os dados de treino (junta as palavras e conta as aparições)\n",
    "    [dfFalsoTreino, dfRealTreino] = prepararDfsTreino(dfFalsoTreino, dfRealTreino)\n",
    "\n",
    "    # avalia o modelo\n",
    "    matrizesRounds = []\n",
    "    for i in range(1, 10): \n",
    "        limiar = i/10\n",
    "        print(limiar)\n",
    "        matrizDeConfusao = evaluate(dfRealTreino, dfFalsoTreino, dfTestes, limiar)\n",
    "        matrizesRounds.append(matrizDeConfusao)\n",
    "    \n",
    "    matrizesDeConfusao.append(matrizesRounds)\n",
    "\n",
    "    # guarda a matriz de confusão"
   ]
  },
  {
   "cell_type": "code",
   "execution_count": 152,
   "metadata": {},
   "outputs": [
    {
     "data": {
      "text/plain": [
       "3114"
      ]
     },
     "execution_count": 152,
     "metadata": {},
     "output_type": "execute_result"
    }
   ],
   "source": [
    "sum(matrizesDeConfusao[1][1]['num'])"
   ]
  },
  {
   "cell_type": "code",
   "execution_count": 153,
   "metadata": {},
   "outputs": [
    {
     "data": {
      "text/html": [
       "<div>\n",
       "<style scoped>\n",
       "    .dataframe tbody tr th:only-of-type {\n",
       "        vertical-align: middle;\n",
       "    }\n",
       "\n",
       "    .dataframe tbody tr th {\n",
       "        vertical-align: top;\n",
       "    }\n",
       "\n",
       "    .dataframe thead th {\n",
       "        text-align: right;\n",
       "    }\n",
       "</style>\n",
       "<table border=\"1\" class=\"dataframe\">\n",
       "  <thead>\n",
       "    <tr style=\"text-align: right;\">\n",
       "      <th></th>\n",
       "      <th>num</th>\n",
       "    </tr>\n",
       "  </thead>\n",
       "  <tbody>\n",
       "    <tr>\n",
       "      <th>fF</th>\n",
       "      <td>1437</td>\n",
       "    </tr>\n",
       "    <tr>\n",
       "      <th>fR</th>\n",
       "      <td>195</td>\n",
       "    </tr>\n",
       "    <tr>\n",
       "      <th>rF</th>\n",
       "      <td>0</td>\n",
       "    </tr>\n",
       "    <tr>\n",
       "      <th>rR</th>\n",
       "      <td>1482</td>\n",
       "    </tr>\n",
       "  </tbody>\n",
       "</table>\n",
       "</div>"
      ],
      "text/plain": [
       "     num\n",
       "fF  1437\n",
       "fR   195\n",
       "rF     0\n",
       "rR  1482"
      ]
     },
     "execution_count": 153,
     "metadata": {},
     "output_type": "execute_result"
    }
   ],
   "source": [
    "matrizesDeConfusao[1][1]"
   ]
  },
  {
   "cell_type": "code",
   "execution_count": 155,
   "metadata": {},
   "outputs": [
    {
     "data": {
      "text/plain": [
       "0.9374"
      ]
     },
     "execution_count": 155,
     "metadata": {},
     "output_type": "execute_result"
    }
   ],
   "source": [
    "acuracidade = round(float(matrizesDeConfusao[1][1].loc['rR', 'num'] + matrizesDeConfusao[1][1].loc['fF', 'num']) / sum(matrizesDeConfusao[1][1]['num']), 4)\n",
    "acuracidade"
   ]
  },
  {
   "cell_type": "code",
   "execution_count": 174,
   "metadata": {},
   "outputs": [
    {
     "data": {
      "text/plain": [
       "0.9"
      ]
     },
     "execution_count": 174,
     "metadata": {},
     "output_type": "execute_result"
    }
   ],
   "source": [
    "matrizesDeConfusao[0][8]"
   ]
  },
  {
   "cell_type": "code",
   "execution_count": 203,
   "metadata": {},
   "outputs": [
    {
     "data": {
      "text/plain": [
       "0.2"
      ]
     },
     "execution_count": 203,
     "metadata": {},
     "output_type": "execute_result"
    }
   ],
   "source": [
    "matrizesDeConfusao[0][1]"
   ]
  },
  {
   "cell_type": "code",
   "execution_count": null,
   "metadata": {},
   "outputs": [],
   "source": [
    "for i in range(1, 6):\n",
    "    print(matrizesDeConfusao[i][8])\n",
    "    acuracidade = round(float(matrizesDeConfusao[1][i].loc['rR', 'num'] + matrizesDeConfusao[1][i].loc['fF', 'num']) / sum(matrizesDeConfusao[1][i]['num']), 4)"
   ]
  },
  {
   "cell_type": "code",
   "execution_count": 215,
   "metadata": {},
   "outputs": [],
   "source": [
    "# matrizesDeConfusao[round][limiar]\n",
    "mediasAcuracidades = []\n",
    "mediaPrecisoesReais = []\n",
    "\n",
    "acuracidades = []\n",
    "sensisFalsas = []\n",
    "sensisReais = []\n",
    "precisaosFalsas = []\n",
    "precisaosReais = []\n",
    "f1Score = []\n",
    "\n",
    "for i in range(0, 9):\n",
    "    for j in range(1, len(matrizesDeConfusao)):\n",
    "        acuracidade = round(float((matrizesDeConfusao[j][i].loc['rR', 'num'] + matrizesDeConfusao[j][i].loc['fF', 'num']) / sum(matrizesDeConfusao[j][i]['num'])), 4)\n",
    "        acuracidades.append(acuracidade)\n",
    "\n",
    "        #sensiFalsa =\n",
    "        #sensisFalsas.append(sensisFalsas)\n",
    "        \n",
    "        precReal = round(float((matrizesDeConfusao[j][i].loc['rR', 'num']) / (matrizesDeConfusao[j][i].loc['rR', 'num'] + matrizesDeConfusao[j][i].loc['fR', 'num'])), 4)\n",
    "        precisaosReais.append(precReal)\n",
    "\n",
    "    mediaAcuracidades = round((sum(acuracidades) / len(acuracidades)), 4)\n",
    "    mediasAcuracidades.append(mediaAcuracidades)\n",
    "\n",
    "    mediaPrecisaoReais = round((sum(precisaosReais) / len(precisaosReais)), 4)\n",
    "    mediaPrecisoesReais.append(mediaPrecisaoReais)\n"
   ]
  },
  {
   "cell_type": "code",
   "execution_count": 216,
   "metadata": {},
   "outputs": [
    {
     "data": {
      "text/plain": [
       "[0.9337, 0.9351, 0.9367, 0.9403, 0.9435, 0.9461, 0.9486, 0.9514, 0.9553]"
      ]
     },
     "execution_count": 216,
     "metadata": {},
     "output_type": "execute_result"
    }
   ],
   "source": [
    "mediasAcuracidades"
   ]
  },
  {
   "cell_type": "code",
   "execution_count": 217,
   "metadata": {},
   "outputs": [
    {
     "data": {
      "text/plain": [
       "[0.8776, 0.8801, 0.8826, 0.8887, 0.8942, 0.8987, 0.9033, 0.909, 0.9174]"
      ]
     },
     "execution_count": 217,
     "metadata": {},
     "output_type": "execute_result"
    }
   ],
   "source": [
    "mediaPrecisoesReais"
   ]
  },
  {
   "cell_type": "code",
   "execution_count": null,
   "metadata": {},
   "outputs": [],
   "source": [
    "fF = [], fR = [], rF = [], rR = []\n",
    "for i in range(len(matrizesDeConfusao)):\n",
    "    fF.append(matrizesDeConfusao[i].loc['fF', 'num'])\n",
    "    fR.append(matrizesDeConfusao[i].loc['fR', 'num'])\n",
    "    rF.append(matrizesDeConfusao[i].loc['rF', 'num'])\n",
    "    rR.append(matrizesDeConfusao[i].loc['rR','num'])\n",
    "                                        "
   ]
  },
  {
   "cell_type": "code",
   "execution_count": null,
   "metadata": {},
   "outputs": [],
   "source": [
    "dpPrecFalsas, mediaPrecFalsas = calcularDPMedia(precsFalsas)\n",
    "minPrecisaoFalsas, maxPrecisaoFalsas = calcularIntervaloConfianca(dpPrecFalsas, mediaPrecFalsas, len(precsFalsas))\n",
    "\n",
    "dpPrecReais, mediaPrecFReais= calcularDPMedia(precsReais)\n",
    "minPrecisaoReais, maxPrecisaoReais = calcularIntervaloConfianca(dpPrecReais, mediaPrecFReais, len(precsReais))\n",
    "\n",
    "dpSensiReais, mediaSensiReais= calcularDPMedia(sensisReais)\n",
    "minSensiReais, maxSensiReais = calcularIntervaloConfianca(dpSensiReais, mediaSensiReais, len(sensisReais))\n",
    "\n",
    "dpSensiFalsas, mediaSensiFalsas= calcularDPMedia(sensisFalsas)\n",
    "minSensiFalsas, maxSensiFalsas = calcularIntervaloConfianca(dpSensiFalsas, mediaSensiFalsas, len(sensisFalsas))\n",
    "\n",
    "dpAcuracidade, mediaAcuracidade= calcularDPMedia(acuracias)\n",
    "minAcuracidade, maxAcuracidade = calcularIntervaloConfianca(dpAcuracidade, mediaAcuracidade, len(acuracias))\n"
   ]
  },
  {
   "cell_type": "code",
   "execution_count": null,
   "metadata": {},
   "outputs": [],
   "source": [
    "dados = {\n",
    "    'Métrica': ['Precisão Falsas', 'Precisão Reais', 'Sensibilidade Reais', 'Sensibilidade Falsas', 'Acuracidade'],\n",
    "    'Mínimo': list([\n",
    "        minPrecisaoFalsas,\n",
    "        minPrecisaoReais,\n",
    "        minSensiReais,\n",
    "        minSensiFalsas,\n",
    "        minAcuracidade\n",
    "    ]),\n",
    "    'Máximo': list([\n",
    "        maxPrecisaoFalsas,\n",
    "        maxPrecisaoReais,\n",
    "        maxSensiReais,\n",
    "        maxSensiFalsas,\n",
    "        maxAcuracidade\n",
    "    ])\n",
    "}\n",
    "\n",
    "dfIntervalos = pd.DataFrame(dados)\n",
    "\n",
    "dfIntervalos['Mínimo'] = dfIntervalos['Mínimo'].round(4)\n",
    "dfIntervalos['Máximo'] = dfIntervalos['Máximo'].round(4)\n",
    "\n",
    "print(dfIntervalos)"
   ]
  }
 ],
 "metadata": {
  "colab": {
   "provenance": []
  },
  "kernelspec": {
   "display_name": "venv",
   "language": "python",
   "name": "python3"
  },
  "language_info": {
   "codemirror_mode": {
    "name": "ipython",
    "version": 3
   },
   "file_extension": ".py",
   "mimetype": "text/x-python",
   "name": "python",
   "nbconvert_exporter": "python",
   "pygments_lexer": "ipython3",
   "version": "3.10.12"
  }
 },
 "nbformat": 4,
 "nbformat_minor": 0
}
