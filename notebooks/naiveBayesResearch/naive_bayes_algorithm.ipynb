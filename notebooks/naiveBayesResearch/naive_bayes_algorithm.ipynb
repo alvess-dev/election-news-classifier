{
 "cells": [
  {
   "cell_type": "code",
   "execution_count": 14,
   "metadata": {
    "id": "hODfjjsJK8uR"
   },
   "outputs": [],
   "source": [
    "import pandas as pd\n",
    "import random as rd\n",
    "import numpy as np"
   ]
  },
  {
   "cell_type": "code",
   "execution_count": 15,
   "metadata": {},
   "outputs": [],
   "source": [
    "def separarTreinoTeste(dfA):\n",
    "    dfB = dfA\n",
    "    dfC = pd.DataFrame()\n",
    "    for i in range (len(dfA)):\n",
    "        vetor = dfA.iloc[i, 0]\n",
    "        if (rd.random() > 0.8): # vai p teste\n",
    "            dfB = pd.concat([dfB, pd.DataFrame(data=[[vetor]], columns=['noticias'])], ignore_index=True)\n",
    "        else:\n",
    "            dfC = pd.concat([dfC, pd.DataFrame(data=[[vetor]], columns=['noticias'])], ignore_index=True)\n",
    "\n",
    "    return dfB, dfC"
   ]
  },
  {
   "cell_type": "code",
   "execution_count": 16,
   "metadata": {},
   "outputs": [],
   "source": [
    "def prepararDfTeste (dfA, dfB):\n",
    "    # embaralha os dfs\n",
    "    dfEmbaralhado = pd.concat([dfA, dfB], ignore_index=True)\n",
    "    indices = list(dfEmbaralhado.index)\n",
    "    rd.shuffle(indices)\n",
    "    \n",
    "    tags = []\n",
    "    noticias = []\n",
    "\n",
    "    # cria uma coluna pra tag\n",
    "    for i in indices:\n",
    "        news = dfEmbaralhado.iloc[i, 0]\n",
    "        tags.append(news[0])\n",
    "        noticias.append(news[1:])\n",
    "\n",
    "    return pd.DataFrame({'tag': tags, 'noticia': noticias})"
   ]
  },
  {
   "cell_type": "code",
   "execution_count": 17,
   "metadata": {},
   "outputs": [],
   "source": [
    "def prepararDfsTreino (dfF, dfR):\n",
    "    # Falsas\n",
    "    palavrasFalsas = []\n",
    "    for i in range(len(dfF)):\n",
    "        noticia = dfF.iloc[i,0][1:]\n",
    "        palavrasFalsas.extend(noticia)\n",
    "    dfF = pd.DataFrame({'palavras': palavrasFalsas})\n",
    "    dfF = dfF.groupby('palavras').size().reset_index(name='aparicoesFalsas')\n",
    "\n",
    "    palavrasFalsas = []\n",
    "    for i in range(len(dfR)):\n",
    "        noticia = dfR.iloc[i,0][1:]\n",
    "        palavrasFalsas.extend(noticia)\n",
    "    dfR = pd.DataFrame({'palavras': palavrasFalsas})\n",
    "    dfR = dfR.groupby('palavras').size().reset_index(name='aparicoesReais')\n",
    "    palavras = []\n",
    "\n",
    "    return dfF, dfR"
   ]
  },
  {
   "cell_type": "code",
   "execution_count": 18,
   "metadata": {
    "id": "P4VNs4t3K8uU"
   },
   "outputs": [],
   "source": [
    "def evaluate(dfReal, dfFalso, noticiasTeste):\n",
    "    # Junta os dataframes e une as palavras\n",
    "    dfJunto = dfReal.merge(dfFalso, how='outer')\n",
    "\n",
    "    # Conta quantas palavras tem em uma e não tem na outra\n",
    "    nReal = dfJunto.loc[dfJunto['aparicoesReais'].isna(), 'palavras'].count()\n",
    "    nFalsa = dfJunto.loc[dfJunto['aparicoesFalsas'].isna(), 'palavras'].count()\n",
    "\n",
    "    # Preenche as palavras que não aparecem com 1\n",
    "    dfJunto.fillna(1, inplace=True)\n",
    "\n",
    "    # Soma as palavras com 0 aparições com 1 para evitar multiplicação por 0\n",
    "    dfJunto.loc[dfJunto['aparicoesReais'] > 1, 'aparicoesReais'] += 1\n",
    "    dfJunto.loc[dfJunto['aparicoesFalsas'] > 1, 'aparicoesFalsas'] += 1\n",
    "\n",
    "    # Soma o total de aparições\n",
    "    totalReal = dfJunto['aparicoesReais'].sum()\n",
    "    totalFalso = dfJunto['aparicoesFalsas'].sum()\n",
    "\n",
    "    # Balanceia a ordem de grandeza das aparições\n",
    "    dfJunto['aparicoesFalsas'] *= totalReal / totalFalso\n",
    "\n",
    "    # Faz o coeficiente de bray courtis\n",
    "    dfJunto['bc'] = abs(dfJunto['aparicoesReais'] - dfJunto['aparicoesFalsas']) / (dfJunto['aparicoesReais'] + dfJunto['aparicoesFalsas'])\n",
    "\n",
    "    # Limpa palavras com coeficiente menor que 0.3 (palavras com aparições equivalentes em ambos casos)\n",
    "    dfJunto = dfJunto.loc[dfJunto['bc'] > 0.3]\n",
    "\n",
    "    # Pega o total de aparições após NLP\n",
    "    tFalsas = dfJunto['aparicoesFalsas'].sum()\n",
    "    tReais = dfJunto['aparicoesReais'].sum()\n",
    "\n",
    "    # Define um df de teste\n",
    "    dfJuntoTeste = dfJunto\n",
    "\n",
    "    # Faz os calculos das probabilidades\n",
    "    dfJuntoTeste['aparicoesFalsas'] = dfJunto['aparicoesFalsas'] / (nFalsa + tFalsas)\n",
    "    dfJuntoTeste['aparicoesReais'] = dfJunto['aparicoesReais'] / (nReal + tReais)\n",
    "\n",
    "    # Pega o log na base 10\n",
    "    dfJuntoTeste['aparicoesFalsas'] = np.log10(dfJuntoTeste['aparicoesFalsas'])\n",
    "    dfJuntoTeste['aparicoesReais'] = np.log10(dfJuntoTeste['aparicoesReais'])\n",
    "\n",
    "    # NOTICIA:\n",
    "    \n",
    "    indices = ['fF', 'fR', 'rF', 'rR']\n",
    "    dfDados = pd.DataFrame(0, index=indices, columns=['num'])\n",
    "\n",
    "    for i in range (len(noticiasTeste)):\n",
    "        noticia = noticiasTeste.iloc[i, 1]\n",
    "        tag = noticiasTeste.iloc[i, 0]\n",
    "\n",
    "        # Cria um df com a notícia limpa\n",
    "        dfNoticia = pd.DataFrame(data = noticia, columns=['palavra'])\n",
    "\n",
    "        # Junta o df da noticia com o das probabilidades\n",
    "        dfNoticia = dfNoticia.merge(dfJuntoTeste, how='inner', left_on='palavra', right_on='palavras')\n",
    "\n",
    "        # Faz a soma das probabilidades\n",
    "        iFalsa = dfNoticia['aparicoesFalsas'].sum()\n",
    "        iReal = dfNoticia['aparicoesReais'].sum()\n",
    "\n",
    "        # Confere o resultado\n",
    "        if (iFalsa > iReal): # Falsa\n",
    "            resultado = 'F'\n",
    "        else:\n",
    "            resultado = 'R'\n",
    "            \n",
    "        chave = tag + resultado\n",
    "        dfDados.loc[chave, 'num'] += 1\n",
    "    \n",
    "    acuracia = round(float((dfDados.loc['fF', 'num'] + dfDados.loc['rR', 'num']) / dfDados['num'].sum()), 4)\n",
    "    \n",
    "    sensiReal = round(float(dfDados.loc['rR', 'num'] / (dfDados.loc['rR', 'num'] + dfDados.loc['rF', 'num'])), 4)\n",
    "    sensiFalsa = round(float(dfDados.loc['fF', 'num'] / (dfDados.loc['fF', 'num'] + dfDados.loc['fR', 'num'])), 4)\n",
    "    \n",
    "    precReal = round(float(dfDados.loc['rR', 'num'] / (dfDados.loc['rR', 'num'] + dfDados.loc['fR', 'num'])), 4)\n",
    "    precFalsa = round(float(dfDados.loc['fF', 'num'] / (dfDados.loc['fF', 'num'] + dfDados.loc['rF', 'num'])), 4)\n",
    "    \n",
    "    return acuracia, sensiReal, precReal, sensiFalsa, precFalsa"
   ]
  },
  {
   "cell_type": "code",
   "execution_count": 19,
   "metadata": {},
   "outputs": [],
   "source": [
    "def calcularDPMedia(dados):\n",
    "    n = len(dados)\n",
    "    media = sum(dados) / n\n",
    "    soma_dif_quadrados = sum((x - media) ** 2 for x in dados)\n",
    "    dp = (soma_dif_quadrados / (n - 1)) ** 0.5\n",
    "    return dp, media\n"
   ]
  },
  {
   "cell_type": "code",
   "execution_count": 20,
   "metadata": {},
   "outputs": [],
   "source": [
    "def calcularDPMedia(dados):\n",
    "    n = len(dados)\n",
    "    media = sum(dados) / n\n",
    "\n",
    "    somaDiferencaQuadrados = 0\n",
    "    for valor in dados:\n",
    "        somaDiferencaQuadrados += (valor - media) ** 2\n",
    "\n",
    "    dp = (somaDiferencaQuadrados / (n-1)) ** 0.5\n",
    "    return dp, media"
   ]
  },
  {
   "cell_type": "code",
   "execution_count": 21,
   "metadata": {},
   "outputs": [],
   "source": [
    "def calcularIntervaloConfianca(dp, media, n, z=1.96):\n",
    "    margem = z * dp / (n ** 0.5)\n",
    "    return media - margem, media + margem"
   ]
  },
  {
   "cell_type": "code",
   "execution_count": null,
   "metadata": {},
   "outputs": [],
   "source": [
    "acuracias = []\n",
    "sensisReais = []\n",
    "sensisFalsas = []\n",
    "precsReais = []\n",
    "precsFalsas = []\n",
    "\n",
    "\n",
    "dfFalsoOriginal = pd.read_json('../data/train/fakeTrain.json', orient='records', lines=True)\n",
    "dfRealOriginal = pd.read_json('../data/train/realTrain.json', orient='records', lines=True)\n",
    "for i in range(64):\n",
    "    print(i)\n",
    "    dfFalso = dfFalsoOriginal.copy()\n",
    "    dfReal = dfRealOriginal.copy()\n",
    "\n",
    "    [dfFalsoTeste, dfFalsoTreino] = separarTreinoTeste(dfFalso)\n",
    "    [dfRealTeste, dfRealTreino] = separarTreinoTeste(dfReal)\n",
    "    dfTestes = prepararDfTeste(dfFalsoTeste, dfRealTeste)\n",
    "    [dfFalsoTreino, dfRealTreino] = prepararDfsTreino(dfFalsoTreino, dfRealTreino)\n",
    "    [acuracia, sensiReal, precReal, sensiFalsa, precFalsa] = evaluate(dfRealTreino, dfFalsoTreino, dfTestes)\n",
    "\n",
    "    acuracias.append(acuracia)\n",
    "\n",
    "    sensisReais.append(sensiReal)\n",
    "    precsReais.append(precReal)\n",
    "\n",
    "    sensisFalsas.append(sensiFalsa)\n",
    "    precsFalsas.append(precFalsa)"
   ]
  },
  {
   "cell_type": "code",
   "execution_count": 30,
   "metadata": {},
   "outputs": [],
   "source": [
    "dpPrecFalsas, mediaPrecFalsas = calcularDPMedia(precsFalsas)\n",
    "minPrecisaoFalsas, maxPrecisaoFalsas = calcularIntervaloConfianca(dpPrecFalsas, mediaPrecFalsas, len(precsFalsas))\n",
    "\n",
    "dpPrecReais, mediaPrecFReais= calcularDPMedia(precsReais)\n",
    "minPrecisaoReais, maxPrecisaoReais = calcularIntervaloConfianca(dpPrecReais, mediaPrecFReais, len(precsReais))\n",
    "\n",
    "dpSensiReais, mediaSensiReais= calcularDPMedia(sensisReais)\n",
    "minSensiReais, maxSensiReais = calcularIntervaloConfianca(dpSensiReais, mediaSensiReais, len(sensisReais))\n",
    "\n",
    "dpSensiFalsas, mediaSensiFalsas= calcularDPMedia(sensisFalsas)\n",
    "minSensiFalsas, maxSensiFalsas = calcularIntervaloConfianca(dpSensiFalsas, mediaSensiFalsas, len(sensisFalsas))\n",
    "\n",
    "dpAcuracidade, mediaAcuracidade= calcularDPMedia(acuracias)\n",
    "minAcuracidade, maxAcuracidade = calcularIntervaloConfianca(dpAcuracidade, mediaAcuracidade, len(acuracias))\n"
   ]
  },
  {
   "cell_type": "code",
   "execution_count": 32,
   "metadata": {},
   "outputs": [
    {
     "name": "stdout",
     "output_type": "stream",
     "text": [
      "                Métrica  Mínimo  Máximo\n",
      "0       Precisão Falsas  1.0000  1.0000\n",
      "1        Precisão Reais  0.8645  0.8682\n",
      "2   Sensibilidade Reais  1.0000  1.0000\n",
      "3  Sensibilidade Falsas  0.8584  0.8625\n",
      "4           Acuracidade  0.9256  0.9278\n"
     ]
    }
   ],
   "source": [
    "dados = {\n",
    "    'Métrica': ['Precisão Falsas', 'Precisão Reais', 'Sensibilidade Reais', 'Sensibilidade Falsas', 'Acuracidade'],\n",
    "    'Mínimo': list([\n",
    "        minPrecisaoFalsas,\n",
    "        minPrecisaoReais,\n",
    "        minSensiReais,\n",
    "        minSensiFalsas,\n",
    "        minAcuracidade\n",
    "    ]),\n",
    "    'Máximo': list([\n",
    "        maxPrecisaoFalsas,\n",
    "        maxPrecisaoReais,\n",
    "        maxSensiReais,\n",
    "        maxSensiFalsas,\n",
    "        maxAcuracidade\n",
    "    ])\n",
    "}\n",
    "\n",
    "dfIntervalos = pd.DataFrame(dados)\n",
    "\n",
    "dfIntervalos['Mínimo'] = dfIntervalos['Mínimo'].round(4)\n",
    "dfIntervalos['Máximo'] = dfIntervalos['Máximo'].round(4)\n",
    "\n",
    "print(dfIntervalos)"
   ]
  }
 ],
 "metadata": {
  "colab": {
   "provenance": []
  },
  "kernelspec": {
   "display_name": "Python 3",
   "language": "python",
   "name": "python3"
  },
  "language_info": {
   "codemirror_mode": {
    "name": "ipython",
    "version": 3
   },
   "file_extension": ".py",
   "mimetype": "text/x-python",
   "name": "python",
   "nbconvert_exporter": "python",
   "pygments_lexer": "ipython3",
   "version": "3.13.2"
  }
 },
 "nbformat": 4,
 "nbformat_minor": 0
}
