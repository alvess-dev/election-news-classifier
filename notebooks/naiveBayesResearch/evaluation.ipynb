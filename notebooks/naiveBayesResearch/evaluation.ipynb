{
 "cells": [
  {
   "cell_type": "code",
   "execution_count": 1,
   "id": "fef1f208",
   "metadata": {},
   "outputs": [],
   "source": [
    "import pandas as pd\n",
    "import numpy as np\n",
    "import re"
   ]
  },
  {
   "cell_type": "code",
   "execution_count": 2,
   "id": "c22cfc0d",
   "metadata": {},
   "outputs": [],
   "source": [
    "def clean_text(text):\n",
    "    text = text.lower()\n",
    "    text = re.sub(r'[^a-zA-Z0-9\\s]', '', text)\n",
    "    text = ' '.join(text.split())\n",
    "    return text"
   ]
  },
  {
   "cell_type": "code",
   "execution_count": 3,
   "id": "b8c57958",
   "metadata": {},
   "outputs": [],
   "source": [
    "def prepareTrainingDfs(dfFake, dfReal):\n",
    "    for i in range(len(dfFake)):\n",
    "        news = dfFake.iloc[i, 0]\n",
    "        news.remove('f')\n",
    "\n",
    "    for i in range(len(dfReal)):\n",
    "        news = dfReal.iloc[i, 0]\n",
    "        news.remove('r')\n",
    "\n",
    "    words = []\n",
    "    for i in range(len(dfFake)):\n",
    "        wordList = dfFake.iloc[i, 0]\n",
    "        for word in wordList:\n",
    "            words.append(word)\n",
    "    dfFake = pd.DataFrame({'word': words})\n",
    "    dfFake = dfFake.groupby('word').size().reset_index(name='fakeOccurrences')\n",
    "\n",
    "    words = []\n",
    "    for i in range(len(dfReal)):\n",
    "        wordList = dfReal.iloc[i, 0]\n",
    "        for word in wordList:\n",
    "            words.append(word)\n",
    "    dfReal = pd.DataFrame({'word': words})\n",
    "    dfReal = dfReal.groupby('word').size().reset_index(name='realOccurrences')\n",
    "\n",
    "    return dfFake, dfReal"
   ]
  },
  {
   "cell_type": "code",
   "execution_count": 52,
   "id": "32902f7c",
   "metadata": {},
   "outputs": [],
   "source": [
    "dfFake = pd.read_json('../data/train/fakeTrain.json', orient='records', lines=True)\n",
    "dfReal = pd.read_json('../data/train/realTrain.json', orient='records', lines=True)"
   ]
  },
  {
   "cell_type": "code",
   "execution_count": 5,
   "id": "3c02151d",
   "metadata": {},
   "outputs": [],
   "source": [
    "def prepararDfsTreino (dfF, dfR):\n",
    "    # Falsas\n",
    "    palavrasFalsas = []\n",
    "    for i in range(len(dfF)):\n",
    "        noticia = dfF.iloc[i,0][1:]\n",
    "        palavrasFalsas.extend(noticia)\n",
    "    dfF = pd.DataFrame({'palavras': palavrasFalsas})\n",
    "    dfF = dfF.groupby('palavras').size().reset_index(name='aparicoesFalsas')\n",
    "\n",
    "    palavrasFalsas = []\n",
    "    for i in range(len(dfR)):\n",
    "        noticia = dfR.iloc[i,0][1:]\n",
    "        palavrasFalsas.extend(noticia)\n",
    "    dfR = pd.DataFrame({'palavras': palavrasFalsas})\n",
    "    dfR = dfR.groupby('palavras').size().reset_index(name='aparicoesReais')\n",
    "    palavras = []\n",
    "\n",
    "    return dfF, dfR"
   ]
  },
  {
   "cell_type": "code",
   "execution_count": 53,
   "id": "a519da94",
   "metadata": {},
   "outputs": [],
   "source": [
    "[dfFake, dfReal] = prepararDfsTreino(dfFake, dfReal)"
   ]
  },
  {
   "cell_type": "code",
   "execution_count": 91,
   "id": "fc6a44bf",
   "metadata": {},
   "outputs": [],
   "source": [
    "# Junta os dataframes e une as palavras\n",
    "mergedDf = dfReal.merge(dfFake, how='outer')"
   ]
  },
  {
   "cell_type": "code",
   "execution_count": 92,
   "id": "dfecf46d",
   "metadata": {},
   "outputs": [],
   "source": [
    "# Conta quantas palavras tem em uma e não tem na outra\n",
    "missingInReal = mergedDf.loc[mergedDf['aparicoesReais'].isna(), 'palavras'].count()\n",
    "missingInFake = mergedDf.loc[mergedDf['aparicoesFalsas'].isna(), 'palavras'].count()"
   ]
  },
  {
   "cell_type": "code",
   "execution_count": 93,
   "id": "7e54b7a0",
   "metadata": {},
   "outputs": [],
   "source": [
    "# Preenche as palavras que não aparecem com 1 pra evitar multiplicação por 0\n",
    "mergedDf.fillna(1, inplace=True)"
   ]
  },
  {
   "cell_type": "code",
   "execution_count": 94,
   "id": "8f6efb0d",
   "metadata": {},
   "outputs": [],
   "source": [
    "# Soma as palavras com mais de zero aparições com um (laplace smoothing)\n",
    "mergedDf.loc[mergedDf['aparicoesReais'] > 1, 'aparicoesReais'] += 1\n",
    "mergedDf.loc[mergedDf['aparicoesFalsas'] > 1, 'aparicoesFalsas'] += 1"
   ]
  },
  {
   "cell_type": "code",
   "execution_count": 95,
   "id": "21f793ba",
   "metadata": {},
   "outputs": [],
   "source": [
    "# Remove linhas onde a coluna 'palavras' é vazia ou só espaço\n",
    "mergedDf = mergedDf[mergedDf['palavras'].str.strip() != '']\n",
    "\n",
    "# Mantém só palavras que têm pelo menos uma letra (a–z ou A–Z ou acentuadas)\n",
    "mergedDf = mergedDf[mergedDf['palavras'].str.match(r'^[A-Za-zÀ-ÖØ-öø-ÿ]+$', na=False)]"
   ]
  },
  {
   "cell_type": "code",
   "execution_count": 96,
   "id": "ae5bffce",
   "metadata": {},
   "outputs": [],
   "source": [
    "# Soma o total de aparições\n",
    "totalReal = mergedDf['aparicoesReais'].sum()\n",
    "totalFake = mergedDf['aparicoesFalsas'].sum()"
   ]
  },
  {
   "cell_type": "code",
   "execution_count": 97,
   "id": "40898d3a",
   "metadata": {},
   "outputs": [],
   "source": [
    "# Balanceia a ordem de grandeza das aparições\n",
    "mergedDf['aparicoesFalsas'] *= totalReal / totalFake"
   ]
  },
  {
   "cell_type": "code",
   "execution_count": 98,
   "id": "c18375c3",
   "metadata": {},
   "outputs": [],
   "source": [
    "# Faz o coeficiente de bray curtis\n",
    "mergedDf['bc'] = abs(mergedDf['aparicoesReais'] - mergedDf['aparicoesFalsas']) / (mergedDf['aparicoesReais'] + mergedDf['aparicoesFalsas'])"
   ]
  },
  {
   "cell_type": "code",
   "execution_count": 99,
   "id": "e21a301f",
   "metadata": {},
   "outputs": [],
   "source": [
    "# Pega o total de aparições após NLP\n",
    "totalFilteredFake = mergedDf['aparicoesFalsas'].sum()\n",
    "totalFilteredReal = mergedDf['aparicoesReais'].sum()"
   ]
  },
  {
   "cell_type": "code",
   "execution_count": 100,
   "id": "a69204e3",
   "metadata": {},
   "outputs": [],
   "source": [
    "# Faz os calculos das probabilidades\n",
    "mergedDf['aparicoesFalsas'] = mergedDf['aparicoesFalsas'] / (missingInFake + totalFilteredFake)\n",
    "mergedDf['aparicoesReais'] = mergedDf['aparicoesReais'] / (missingInReal + totalFilteredReal)"
   ]
  },
  {
   "cell_type": "code",
   "execution_count": null,
   "id": "24518e2d",
   "metadata": {},
   "outputs": [],
   "source": [
    "mergedDf['hellinger'] = ((1/np.sqrt(2)) * (np.sqrt((np.sqrt(mergedDf['aparicoesReais']) - np.sqrt(mergedDf['aparicoesFalsas'])) ** 2)))*10"
   ]
  },
  {
   "cell_type": "code",
   "execution_count": 82,
   "id": "d67b5785",
   "metadata": {},
   "outputs": [],
   "source": [
    "# Pega o log na base 10\n",
    "mergedDf['aparicoesFalsas'] = np.log10(mergedDf['aparicoesFalsas'])\n",
    "mergedDf['aparicoesReais'] = np.log10(mergedDf['aparicoesReais'])"
   ]
  },
  {
   "cell_type": "code",
   "execution_count": null,
   "id": "657eb966",
   "metadata": {},
   "outputs": [],
   "source": [
    "# Limpa palavras com coeficiente menor que 0.4 (palavras com aparições equivalentes em ambos casos)\n",
    "# Cria um df pra cada métrica\n",
    "mergedDf = mergedDf.loc[mergedDf['bc'] > 0.4]\n",
    "\n",
    "mergedDf = mergedDf.loc[mergedDf['hellinger'] > 0.4]"
   ]
  },
  {
   "cell_type": "code",
   "execution_count": null,
   "id": "b473784a",
   "metadata": {},
   "outputs": [],
   "source": [
    "# NOTICIA:\n",
    "\n",
    "cleaned_news = clean_text(news)\n",
    "words = cleaned_news.split()\n",
    "\n",
    "# Cria o DataFrame com a lista de palavras limpa\n",
    "dfNoticia = pd.DataFrame({'palavra': words})\n",
    "\n",
    "# Junta o df da noticia com o das probabilidades\n",
    "dfNoticia = dfNoticia.merge(\n",
    "mergedDf, how='inner', left_on='palavra', right_on='word')\n",
    "\n",
    "# Corrige os nomes das colunas\n",
    "iFalsa = dfNoticia['fakeOccurrences'].sum()\n",
    "iReal = dfNoticia['realOccurrences'].sum()\n",
    "\n",
    "# Confere o resultado\n",
    "if (iFalsa > iReal):\n",
    "    resultado = 'Falsa'\n",
    "else:\n",
    "    resultado = 'Real'"
   ]
  }
 ],
 "metadata": {
  "kernelspec": {
   "display_name": ".venv",
   "language": "python",
   "name": "python3"
  },
  "language_info": {
   "codemirror_mode": {
    "name": "ipython",
    "version": 3
   },
   "file_extension": ".py",
   "mimetype": "text/x-python",
   "name": "python",
   "nbconvert_exporter": "python",
   "pygments_lexer": "ipython3",
   "version": "3.10.12"
  }
 },
 "nbformat": 4,
 "nbformat_minor": 5
}
