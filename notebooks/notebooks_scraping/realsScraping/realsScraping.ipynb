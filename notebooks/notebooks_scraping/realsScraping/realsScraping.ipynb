{
 "cells": [
  {
   "cell_type": "code",
   "execution_count": null,
   "metadata": {
    "id": "HMn8NZOk_f98"
   },
   "outputs": [],
   "source": [
    "import time\n",
    "from random import random\n",
    "from selenium import webdriver\n",
    "from logging import raiseExceptions\n",
    "from selenium.webdriver.common.by import By\n",
    "from selenium.webdriver.chrome.service import Service\n",
    "from selenium.common.exceptions import TimeoutException\n",
    "from selenium.webdriver.support.ui import WebDriverWait\n",
    "from selenium.webdriver.support import expected_conditions as EC"
   ]
  },
  {
   "cell_type": "code",
   "execution_count": null,
   "metadata": {
    "id": "5020CvQP_f99"
   },
   "outputs": [],
   "source": [
    "service = Service()\n",
    "options = webdriver.ChromeOptions()\n",
    "options.add_extension(\"adblock.crx\")\n",
    "options.add_argument(\"--disable-application-cache\")\n",
    "options.add_argument(\"--disable-gpu\")\n",
    "options.add_argument(\"--no-sandbox\")\n",
    "options.add_argument(\"--disable-setuid-sandbox\")\n",
    "options.add_argument(\"--disable-dev-shm-usage\")\n",
    "options.page_load_strategy = 'eager'\n",
    "prefs = {\n",
    "    \"profile.managed_default_content_settings.images\": 2,\n",
    "    \"profile.managed_default_content_settings.stylesheets\": 2,\n",
    "    \"profile.managed_default_content_settings.plugins\": 2,\n",
    "    \"profile.managed_default_content_settings.popups\": 2,\n",
    "    \"profile.managed_default_content_settings.geolocation\": 2,\n",
    "    \"profile.managed_default_content_settings.notifications\": 2,\n",
    "    \"profile.managed_default_content_settings.media_stream\": 2,\n",
    "    \"profile.managed_default_content_settings.javascript\": 1,\n",
    "    \"profile.managed_default_content_settings.frame\": 2\n",
    "}\n",
    "\n",
    "options.add_experimental_option(\"prefs\", prefs)\n",
    "options.add_experimental_option(\"prefs\", prefs)\n",
    "options.set_capability(\"pageLoadStrategy\", \"eager\")"
   ]
  },
  {
   "cell_type": "code",
   "execution_count": 4,
   "metadata": {
    "id": "g-WDMzn2_f9-"
   },
   "outputs": [],
   "source": [
    "driver = webdriver.Chrome(service=service, options=options)"
   ]
  },
  {
   "cell_type": "code",
   "execution_count": 59,
   "metadata": {
    "id": "y4YSjaEFd-DE"
   },
   "outputs": [],
   "source": [
    "driver.get('https://www.tse.jus.br/comunicacao/noticias?year=2024&month=11&period=&formData=')"
   ]
  },
  {
   "cell_type": "code",
   "execution_count": null,
   "metadata": {},
   "outputs": [],
   "source": [
    "news = driver.find_elements(By.CLASS_NAME, 'news-list-title')\n",
    "while (len(news) <= 150):\n",
    "    btnMore = WebDriverWait(driver, 30).until(\n",
    "        EC.presence_of_element_located(\n",
    "            (By.ID,\n",
    "                'news-list-read-more-button'\n",
    "                )\n",
    "        )\n",
    "    )\n",
    "    time.sleep(2)\n",
    "    driver.execute_script(\"window.scrollBy(0, 10000);\")\n",
    "    while(btnMore.text != 'Veja outras notícias'):\n",
    "        time.sleep(0.1)    \n",
    "        btnMore = WebDriverWait(driver, 30).until(\n",
    "            EC.presence_of_element_located(\n",
    "                (By.ID,\n",
    "                    'news-list-read-more-button'\n",
    "                    )\n",
    "            )\n",
    "        )\n",
    "            \n",
    "    btnMore.click()\n",
    "    news = driver.find_elements(By.CLASS_NAME, 'news-list-title')"
   ]
  },
  {
   "cell_type": "code",
   "execution_count": null,
   "metadata": {
    "id": "94YhfFCG_f-A"
   },
   "outputs": [],
   "source": [
    "list = ['#', '\\'', '/', ',', '.', '', ']', '[', '(', ')', '*', '@', '!', '?', '|', ':', ';', '&', '–', '”', '“', '…', '=', ',', '.', '–', '\"', '‘', '’', '(', ')', ]\n",
    "trainNews = []\n",
    "testNews = []\n",
    "aux = []\n",
    "n = 0\n",
    "\n",
    "for card in news:\n",
    "    text = ''\n",
    "    n += 1\n",
    "\n",
    "    #  Scroll to the card and click\n",
    "    driver.execute_script(\"arguments[0].scrollIntoView({behavior:'smooth',block:'center'});\", card)\n",
    "    link = card.find_element(By.XPATH, \".//ancestor::a[1]\").get_attribute(\"href\")\n",
    "    driver.execute_script(f\"window.open('{link}', '_blank');\")\n",
    "\n",
    "    # Change the driver window\n",
    "    driver.switch_to.window(driver.window_handles[-1])\n",
    "\n",
    "    # Search all the news and store them\n",
    "    try:\n",
    "        timeout = WebDriverWait(driver, 3).until(\n",
    "            EC.presence_of_element_located((By.XPATH, \"//*[@id='master_main']\"))\n",
    "        )\n",
    "\n",
    "        pNews = WebDriverWait(driver, 20).until(\n",
    "            EC.presence_of_all_elements_located((By.TAG_NAME, 'p'))\n",
    "        )\n",
    "        pNews = pNews[:-7]\n",
    "\n",
    "        for p in pNews:\n",
    "            text += (p.text.lstrip()).rstrip() + ' '\n",
    "        \n",
    "        text = text.split()\n",
    "        print(n)\n",
    "\n",
    "        aux = []\n",
    "        if (random() < 0.8):\n",
    "            for words in text:\n",
    "                for char in list:\n",
    "                    words = words.replace(char, '')\n",
    "                aux.append(words.lower())\n",
    "\n",
    "            aux = [word for word in aux if word != '']\n",
    "            aux.insert(0, 'r')\n",
    "            trainNews.append(aux)\n",
    "        else:\n",
    "            for words in text:\n",
    "                for char in list:\n",
    "                    words = words.replace(char, '')\n",
    "                aux.append(words.lower())\n",
    "\n",
    "            aux = [word for word in aux if word != '']\n",
    "            aux.insert(0, 'r')\n",
    "            testNews.append(aux)\n",
    "\n",
    "    except Exception as e:\n",
    "        print(\"error:\", e)\n",
    "        driver.close()\n",
    "        driver.switch_to.window(driver.window_handles[0])\n",
    "        continue\n",
    "\n",
    "    except TimeoutException as t:\n",
    "        print(\"timeout\", t)\n",
    "        driver.close()\n",
    "        driver.switch_to.window(driver.window_handles[0])\n",
    "        continue\n",
    "\n",
    "    # Close the window\n",
    "    driver.close()\n",
    "    driver.switch_to.window(driver.window_handles[0])"
   ]
  },
  {
   "cell_type": "code",
   "execution_count": null,
   "metadata": {
    "id": "qcTeibnc_f-B"
   },
   "outputs": [],
   "source": [
    "arqOut = open('./TRAINrealnews.txt', 'w', encoding='utf-8')\n",
    "for news in trainNews:\n",
    "    print(news, file=arqOut)\n",
    "arqOut.close()"
   ]
  },
  {
   "cell_type": "code",
   "execution_count": null,
   "metadata": {
    "id": "_bhiK-tY_f-B"
   },
   "outputs": [],
   "source": [
    "arqOut = open('./TESTrealnews.txt', 'w', encoding='utf-8')\n",
    "for news in testNews:\n",
    "    print(news, file=arqOut)\n",
    "arqOut.close()"
   ]
  }
 ],
 "metadata": {
  "colab": {
   "provenance": []
  },
  "kernelspec": {
   "display_name": "Python 3",
   "language": "python",
   "name": "python3"
  },
  "language_info": {
   "codemirror_mode": {
    "name": "ipython",
    "version": 3
   },
   "file_extension": ".py",
   "mimetype": "text/x-python",
   "name": "python",
   "nbconvert_exporter": "python",
   "pygments_lexer": "ipython3",
   "version": "3.13.2"
  }
 },
 "nbformat": 4,
 "nbformat_minor": 0
}
