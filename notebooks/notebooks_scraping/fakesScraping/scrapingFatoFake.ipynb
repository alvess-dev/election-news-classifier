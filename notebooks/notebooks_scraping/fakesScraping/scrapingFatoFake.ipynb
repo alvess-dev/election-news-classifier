{
 "cells": [
  {
   "cell_type": "code",
   "execution_count": null,
   "metadata": {
    "id": "HMn8NZOk_f98"
   },
   "outputs": [],
   "source": [
    "import time\n",
    "from random import random\n",
    "from selenium import webdriver\n",
    "from logging import raiseExceptions\n",
    "from selenium.webdriver.common.by import By\n",
    "from selenium.webdriver.chrome.service import Service\n",
    "from selenium.webdriver.support.ui import WebDriverWait\n",
    "from selenium.webdriver.support import expected_conditions as EC"
   ]
  },
  {
   "cell_type": "code",
   "execution_count": null,
   "metadata": {
    "id": "5020CvQP_f99"
   },
   "outputs": [],
   "source": [
    "service = Service()\n",
    "options = webdriver.ChromeOptions()\n",
    "options.add_extension(\"adblock.crx\")\n",
    "options.add_argument(\"--disable-application-cache\")\n",
    "options.add_argument(\"--disable-gpu\")\n",
    "options.add_argument(\"--no-sandbox\")\n",
    "options.add_argument(\"--disable-setuid-sandbox\")\n",
    "options.add_argument(\"--disable-dev-shm-usage\")\n",
    "options.page_load_strategy = 'eager'\n",
    "prefs = {\n",
    "    \"profile.managed_default_content_settings.images\": 2,\n",
    "    \"profile.managed_default_content_settings.stylesheets\": 2,\n",
    "    \"profile.managed_default_content_settings.plugins\": 2,\n",
    "    \"profile.managed_default_content_settings.popups\": 2,\n",
    "    \"profile.managed_default_content_settings.geolocation\": 2,\n",
    "    \"profile.managed_default_content_settings.notifications\": 2,\n",
    "    \"profile.managed_default_content_settings.media_stream\": 2,\n",
    "    \"profile.managed_default_content_settings.javascript\": 1,\n",
    "    \"profile.managed_default_content_settings.frame\": 2\n",
    "}\n",
    "\n",
    "options.add_experimental_option(\"prefs\", prefs)\n",
    "options.add_experimental_option(\"prefs\", prefs)\n",
    "options.set_capability(\"pageLoadStrategy\", \"eager\")"
   ]
  },
  {
   "cell_type": "code",
   "execution_count": null,
   "metadata": {
    "id": "g-WDMzn2_f9-"
   },
   "outputs": [],
   "source": [
    "driver = webdriver.Chrome(service=service, options=options)"
   ]
  },
  {
   "cell_type": "code",
   "execution_count": null,
   "metadata": {
    "id": "94YhfFCG_f-A"
   },
   "outputs": [],
   "source": [
    "driver.get('https://www.justicaeleitoral.jus.br/fato-ou-boato/@@pesquisar?SearchableText=&Agencias%3Alist=Fato+ou+Fake&periodo_inicial=&periodo_final=#')\n",
    "list = ['#', '\\'', '/', ',', '.', '', ']', '[', '(', ')', '*', '@', '!', '?', '|', ':', ';', '&', '–', '”', '“', '…', '=', ',', '.', '–', '\"']\n",
    "trainNews = []\n",
    "testNews = []\n",
    "aux = []\n",
    "\n",
    "for i in range(5):\n",
    "    # Find all the news cards\n",
    "    try:\n",
    "        newsCards = WebDriverWait(driver, 30).until(\n",
    "            EC.presence_of_all_elements_located(\n",
    "                (By.XPATH,\n",
    "                    '//div[@class=\"check-labels\"]//img[@src=\"https://www.justicaeleitoral.jus.br/fato-ou-boato/++theme++fatosboatos_v2/images/logos/cards/fato-fake.png\"]'\n",
    "                )\n",
    "            )\n",
    "        )\n",
    "    except:\n",
    "        raise Exception('elemento não encontrado')\n",
    "\n",
    "    for card in newsCards:\n",
    "        #  Scroll to the card and click\n",
    "        driver.execute_script(\"arguments[0].scrollIntoView({behavior:'smooth',block:'center'});\", card)\n",
    "        time.sleep(2)\n",
    "        WebDriverWait(driver, 120).until(EC.element_to_be_clickable(card)).click()\n",
    "\n",
    "        # Change the driver window\n",
    "        WebDriverWait(driver, 120).until(EC.number_of_windows_to_be(2))\n",
    "        driver.switch_to.window(driver.window_handles[-1])\n",
    "        time.sleep(1)\n",
    "\n",
    "        # Search all the news and store them\n",
    "        try:\n",
    "            WebDriverWait(driver, 2).until(\n",
    "                EC.presence_of_element_located((By.CLASS_NAME, \"multicontent,amp-mode-mouse\"))\n",
    "            )\n",
    "\n",
    "            time.sleep(2)\n",
    "            newsElements = driver.find_elements(By.XPATH, \"//p[@class=' content-text__container ']/em\")\n",
    "\n",
    "            for news in newsElements:\n",
    "                aux = []\n",
    "                if (random() < 0.8):\n",
    "                    text = news.text.strip() # Add the news\n",
    "                    text = text.split()\n",
    "                    for words in text:\n",
    "                        for char in list:\n",
    "                            words = words.replace(char, '')\n",
    "                        aux.append(words.lower())\n",
    "\n",
    "                    aux = [palavra for palavra in aux if palavra != '']\n",
    "                    aux.insert(0, 'f')\n",
    "                    trainNews.append(aux)\n",
    "                else:\n",
    "                    text = news.text.strip() # Add the news\n",
    "                    text = text.split()\n",
    "                    for words in text:\n",
    "                        for char in list:\n",
    "                            words = words.replace(char, '')\n",
    "                        aux.append(words.lower())\n",
    "\n",
    "                    aux = [palavra for palavra in aux if palavra != '']\n",
    "                    aux.insert(0, 'f')\n",
    "                    testNews.append(aux)\n",
    "\n",
    "        except Exception as e:\n",
    "            print(\"error:\", e)\n",
    "            driver.close()\n",
    "            driver.switch_to.window(driver.window_handles[0])\n",
    "            continue\n",
    "\n",
    "        # Close the window\n",
    "        driver.close()\n",
    "        driver.switch_to.window(driver.window_handles[0])\n",
    "\n",
    "    # Click on the next button\n",
    "    nextButton = WebDriverWait(driver, 20).until(\n",
    "            EC.element_to_be_clickable((By.XPATH, '//a[@class=\"next\" and contains(@href, \"b_start:int=\")]'))\n",
    "    )\n",
    "    driver.execute_script(\"arguments[0].scrollIntoView({behavior: 'smooth', block: 'center'});\", nextButton)\n",
    "    nextButton.click()\n",
    "\n",
    "    WebDriverWait(driver, 20).until(\n",
    "        EC.presence_of_element_located((By.XPATH, '//div[@class=\"check-labels\"]'))\n",
    "    )"
   ]
  },
  {
   "cell_type": "code",
   "execution_count": null,
   "metadata": {
    "id": "qcTeibnc_f-B"
   },
   "outputs": [],
   "source": [
    "arqOut = open('./TRAINfakenewsFatoFake.txt', 'w', encoding='utf-8')\n",
    "for news in trainNews:\n",
    "    print(news, file=arqOut)\n",
    "arqOut.close()"
   ]
  },
  {
   "cell_type": "code",
   "execution_count": null,
   "metadata": {
    "id": "_bhiK-tY_f-B"
   },
   "outputs": [],
   "source": [
    "arqOut = open('./TESTfakenewsFatoFake.txt', 'w', encoding='utf-8')\n",
    "for news in testNews:\n",
    "    print(news, file=arqOut)\n",
    "arqOut.close()"
   ]
  }
 ],
 "metadata": {
  "colab": {
   "provenance": []
  },
  "language_info": {
   "name": "python"
  }
 },
 "nbformat": 4,
 "nbformat_minor": 0
}
