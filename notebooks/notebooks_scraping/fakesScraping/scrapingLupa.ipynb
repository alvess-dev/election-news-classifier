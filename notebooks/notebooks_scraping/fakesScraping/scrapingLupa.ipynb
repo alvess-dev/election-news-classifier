{
 "cells": [
  {
   "cell_type": "code",
   "execution_count": null,
   "metadata": {
    "id": "HMn8NZOk_f98"
   },
   "outputs": [],
   "source": [
    "import time\n",
    "from random import random\n",
    "from selenium import webdriver\n",
    "from logging import raiseExceptions\n",
    "from selenium.webdriver.common.by import By\n",
    "from selenium.webdriver.chrome.service import Service\n",
    "from selenium.webdriver.support.ui import WebDriverWait\n",
    "from selenium.webdriver.support import expected_conditions as EC"
   ]
  },
  {
   "cell_type": "code",
   "execution_count": null,
   "metadata": {
    "id": "5020CvQP_f99"
   },
   "outputs": [],
   "source": [
    "service = Service()\n",
    "options = webdriver.ChromeOptions()\n",
    "options.add_extension(\"adblock.crx\")\n",
    "options.add_argument(\"--disable-application-cache\")\n",
    "options.add_argument(\"--disable-gpu\")\n",
    "options.add_argument(\"--no-sandbox\")\n",
    "options.add_argument(\"--disable-setuid-sandbox\")\n",
    "options.add_argument(\"--disable-dev-shm-usage\")\n",
    "options.page_load_strategy = 'eager'\n",
    "prefs = {\n",
    "    \"profile.managed_default_content_settings.images\": 2,\n",
    "    \"profile.managed_default_content_settings.stylesheets\": 2,\n",
    "    \"profile.managed_default_content_settings.plugins\": 2,\n",
    "    \"profile.managed_default_content_settings.popups\": 2,\n",
    "    \"profile.managed_default_content_settings.geolocation\": 2,\n",
    "    \"profile.managed_default_content_settings.notifications\": 2,\n",
    "    \"profile.managed_default_content_settings.media_stream\": 2,\n",
    "    \"profile.managed_default_content_settings.javascript\": 1,\n",
    "    \"profile.managed_default_content_settings.frame\": 2\n",
    "}\n",
    "\n",
    "options.add_experimental_option(\"prefs\", prefs)\n",
    "options.add_experimental_option(\"prefs\", prefs)\n",
    "options.set_capability(\"pageLoadStrategy\", \"eager\")"
   ]
  },
  {
   "cell_type": "code",
   "execution_count": null,
   "metadata": {
    "id": "g-WDMzn2_f9-"
   },
   "outputs": [],
   "source": [
    "driver = webdriver.Chrome(service=service, options=options)"
   ]
  },
  {
   "cell_type": "code",
   "execution_count": null,
   "metadata": {
    "id": "y4YSjaEFd-DE"
   },
   "outputs": [],
   "source": [
    "driver.get('https://lupa.uol.com.br/busca/elei%C3%A7%C3%B5es')\n",
    "tag = WebDriverWait(driver, 30).until(\n",
    "    EC.presence_of_element_located(\n",
    "        (By.XPATH,\n",
    "            '//*[@id=\"root\"]/div[2]/div[1]/div/div/div/div[2]/div/div[2]/div[1]/div[1]'\n",
    "         )\n",
    "    )\n",
    ")\n",
    "tag.click()\n",
    "(driver.find_element(By.XPATH,\n",
    " '//*[@id=\"root\"]/div[2]/div[1]/div/div/div/div[2]/div/div[2]/div[1]/div[2]/div/div[1]/span')).click()\n",
    "driver.execute_script(\"window.scrollBy(0, 200);\")\n",
    "(driver.find_element(By.XPATH,\n",
    " '//*[@id=\"root\"]/div[2]/div[1]/div/div/div/div[2]/div/div[2]/div[1]/div[2]/div/div[11]/button')).click()"
   ]
  },
  {
   "cell_type": "code",
   "execution_count": null,
   "metadata": {
    "id": "jBIAwqWod-DE",
    "outputId": "2065a805-2e2c-48ec-81c9-a2911c8021a5"
   },
   "outputs": [],
   "source": [
    "num = ''\n",
    "while (num != 'todos'):\n",
    "    driver.execute_script(\"window.scrollBy(0, 3000);\")\n",
    "    time.sleep(1)\n",
    "    num = driver.find_element(\n",
    "        By.XPATH, '//*[@id=\"init\"]/div/div/div[1]/div/span').text.split()[1]"
   ]
  },
  {
   "cell_type": "code",
   "execution_count": null,
   "metadata": {
    "id": "94YhfFCG_f-A"
   },
   "outputs": [],
   "source": [
    "list = ['#', '\\'', '/', ',', '.', '', ']', '[', '(', ')', '*', '@', '!', '?', '|', ':', ';', '&', '–', '”', '“', '…', '=', ',', '.', '–', '\"', '‘', '’']\n",
    "trainNews = []\n",
    "testNews = []\n",
    "aux = []\n",
    "\n",
    "try:\n",
    "    newsCards = WebDriverWait(driver, 30).until(\n",
    "        EC.presence_of_all_elements_located(\n",
    "            (By.XPATH,\n",
    "                '//span[@class=\"sc-eDvSVe hAIjQn\"]'\n",
    "                )\n",
    "        )\n",
    "    )\n",
    "except:\n",
    "    raise Exception('elemento não encontrado')\n",
    "\n",
    "for card in newsCards:\n",
    "    #  Scroll to the card and click\n",
    "    driver.execute_script(\"arguments[0].scrollIntoView({behavior:'smooth',block:'center'});\", card)\n",
    "    link = card.find_element(By.XPATH, \".//ancestor::a[1]\").get_attribute(\"href\")\n",
    "    driver.execute_script(f\"window.open('{link}', '_blank');\")\n",
    "\n",
    "    # Change the driver window\n",
    "    driver.switch_to.window(driver.window_handles[-1])\n",
    "\n",
    "    # Search all the news and store them\n",
    "    try:\n",
    "        WebDriverWait(driver, 2).until(\n",
    "            EC.presence_of_element_located((By.XPATH, \"//*[@id='root']\"))\n",
    "        )\n",
    "\n",
    "        newsArray = []\n",
    "        tagsArray = []\n",
    "\n",
    "        newsElements = WebDriverWait(driver, 20).until(\n",
    "        EC.presence_of_all_elements_located((By.XPATH,\n",
    "            '//span/b'\n",
    "        ))\n",
    "        )\n",
    "        for news in newsElements:\n",
    "            if news.text.strip() != \"Lupa\":\n",
    "                newsArray.append(news.text)\n",
    "\n",
    "\n",
    "        tag = WebDriverWait(driver, 20).until(\n",
    "        EC.presence_of_all_elements_located((By.XPATH,\n",
    "            '//span[@class=\"sc-eDvSVe bMMjGB\"]'\n",
    "        ))\n",
    "        )\n",
    "\n",
    "        for i in tag:\n",
    "            tagsArray.append(i.text)\n",
    "\n",
    "        tagsArray.pop(0)\n",
    "        \n",
    "        for news, tag in zip(newsArray, tagsArray):\n",
    "            if tag == \"Falso\":\n",
    "                aux = []\n",
    "                if(random() < 0.8):\n",
    "                    text = news.strip().split()\n",
    "                    for words in text:\n",
    "                        for char in list:\n",
    "                            words = words.replace(char, '')\n",
    "                        aux.append(words.lower())\n",
    "\n",
    "                    aux = [word for word in aux if word != '']\n",
    "                    aux.insert(0, 'f')\n",
    "                    trainNews.append(aux)\n",
    "                else:\n",
    "                    text = news.strip().split()\n",
    "                    for words in text:\n",
    "                        for char in list:\n",
    "                            words = words.replace(char, '')\n",
    "                        aux.append(words.lower())\n",
    "\n",
    "                    aux = [word for word in aux if word != '']\n",
    "                    aux.insert(0, 'f')\n",
    "                    testNews.append(aux)\n",
    "\n",
    "    except Exception as e:\n",
    "        print(\"error:\", e)\n",
    "        driver.close()\n",
    "        driver.switch_to.window(driver.window_handles[0])\n",
    "        continue\n",
    "\n",
    "    # Close the window\n",
    "    driver.close()\n",
    "    driver.switch_to.window(driver.window_handles[0])"
   ]
  },
  {
   "cell_type": "code",
   "execution_count": null,
   "metadata": {
    "id": "qcTeibnc_f-B"
   },
   "outputs": [],
   "source": [
    "arqOut = open('./TRAINfakenewsLupa.txt', 'w', encoding='utf-8')\n",
    "for news in trainNews:\n",
    "    print(news, file=arqOut)\n",
    "arqOut.close()"
   ]
  },
  {
   "cell_type": "code",
   "execution_count": null,
   "metadata": {
    "id": "_bhiK-tY_f-B"
   },
   "outputs": [],
   "source": [
    "arqOut = open('./TESTfakenewsLupa.txt', 'w', encoding='utf-8')\n",
    "for news in testNews:\n",
    "    print(news, file=arqOut)\n",
    "arqOut.close()"
   ]
  }
 ],
 "metadata": {
  "colab": {
   "provenance": []
  },
  "kernelspec": {
   "display_name": "Python 3",
   "language": "python",
   "name": "python3"
  },
  "language_info": {
   "codemirror_mode": {
    "name": "ipython",
    "version": 3
   },
   "file_extension": ".py",
   "mimetype": "text/x-python",
   "name": "python",
   "nbconvert_exporter": "python",
   "pygments_lexer": "ipython3",
   "version": "3.13.2"
  }
 },
 "nbformat": 4,
 "nbformat_minor": 0
}
